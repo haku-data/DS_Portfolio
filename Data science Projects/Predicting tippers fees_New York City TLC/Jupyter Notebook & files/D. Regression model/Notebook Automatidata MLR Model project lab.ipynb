{
 "cells": [
  {
   "cell_type": "markdown",
   "metadata": {
    "id": "DtNBZFHO3M7n"
   },
   "source": [
    "# **Automatidata TAXI TLC project**\n",
    "**Regression Analysis**"
   ]
  },
  {
   "cell_type": "markdown",
   "metadata": {
    "id": "kaOj1equPMAb"
   },
   "source": [
    "The Automatidata team has reviewed the results of the A/B testing. Now it’s time to work on predicting the taxi fare amounts."
   ]
  },
  {
   "cell_type": "markdown",
   "metadata": {
    "id": "rgSbVJvomcVa"
   },
   "source": [
    "# Build a multiple linear regression model\n",
    "\n",
    "In this activity, we are building a multiple linear regression model to help estimate the linear relationship between one continuous dependent variable and two or more independent variables. \n",
    "\n",
    "**The goal** is to build a multiple linear regression model and evaluate the model\n",
    "<br/>\n",
    "*This notebook has three parts:*\n",
    "\n",
    "**Part 1:** EDA & Checking Model Assumptions\n",
    "\n",
    "**Part 2:** Model Building and evaluation\n",
    "\n",
    "**Part 3:** Interpreting Model Results"
   ]
  },
  {
   "cell_type": "markdown",
   "metadata": {
    "id": "7KFOyc3JPSiN"
   },
   "source": [
    "# Build a multiple linear regression model"
   ]
  },
  {
   "cell_type": "markdown",
   "metadata": {
    "id": "3UCHQclzQDUL"
   },
   "source": [
    "# **PACE stages**\n"
   ]
  },
  {
   "cell_type": "markdown",
   "metadata": {
    "id": "F5O5cx_qQJmX"
   },
   "source": [
    "## PACE: **Plan**"
   ]
  },
  {
   "cell_type": "markdown",
   "metadata": {
    "id": "D8qYlvkLQsf2"
   },
   "source": [
    "### Task 1. Imports and loading"
   ]
  },
  {
   "cell_type": "code",
   "execution_count": 25,
   "metadata": {
    "id": "ccfeg6X6eOVZ"
   },
   "outputs": [],
   "source": [
    "# Packages for numerics + dataframes\n",
    "import pandas as pd\n",
    "import numpy as np\n",
    "\n",
    "# Packages for visualization\n",
    "import matplotlib.pyplot as plt\n",
    "import seaborn as sns\n",
    "\n",
    "# Packages for date conversions for calculating trip durations\n",
    "from datetime import datetime\n",
    "from datetime import date\n",
    "from datetime import timedelta\n",
    "\n",
    "# Packages for OLS, MLR, confusion matrix\n",
    "from sklearn.preprocessing import StandardScaler\n",
    "from sklearn.model_selection import train_test_split\n",
    "import sklearn.metrics as metrics # For confusion matrix\n",
    "from sklearn.linear_model import LinearRegression\n",
    "from sklearn.metrics import mean_absolute_error,r2_score,mean_squared_error"
   ]
  },
  {
   "cell_type": "code",
   "execution_count": 26,
   "metadata": {
    "id": "TyR3sBUYJBO8"
   },
   "outputs": [],
   "source": [
    "# Load dataset into dataframe \n",
    "# index_col parameter specified to avoid \"Unnamed: 0\" column when reading in data from csv\n",
    "df0=pd.read_csv(r\"C:\\Users\\spectre\\Downloads\\2017_Yellow_Taxi_Trip_Data.csv\", index_col=0)"
   ]
  },
  {
   "cell_type": "markdown",
   "metadata": {
    "id": "OnrvCSfHUWPv"
   },
   "source": [
    "## PACE: **Analyze**"
   ]
  },
  {
   "cell_type": "markdown",
   "metadata": {
    "id": "rIcDG2e66wt9"
   },
   "source": [
    "### Task 2a. Explore data with EDA\n",
    "\n",
    "Analyze and discover data, looking for correlations, missing data, outliers, and duplicates."
   ]
  },
  {
   "cell_type": "code",
   "execution_count": 27,
   "metadata": {
    "id": "T4Ag-sZhWg6K"
   },
   "outputs": [
    {
     "name": "stdout",
     "output_type": "stream",
     "text": [
      "(22699, 17)\n",
      "<class 'pandas.core.frame.DataFrame'>\n",
      "Index: 22699 entries, 24870114 to 17208911\n",
      "Data columns (total 17 columns):\n",
      " #   Column                 Non-Null Count  Dtype  \n",
      "---  ------                 --------------  -----  \n",
      " 0   VendorID               22699 non-null  int64  \n",
      " 1   tpep_pickup_datetime   22699 non-null  object \n",
      " 2   tpep_dropoff_datetime  22699 non-null  object \n",
      " 3   passenger_count        22699 non-null  int64  \n",
      " 4   trip_distance          22699 non-null  float64\n",
      " 5   RatecodeID             22699 non-null  int64  \n",
      " 6   store_and_fwd_flag     22699 non-null  object \n",
      " 7   PULocationID           22699 non-null  int64  \n",
      " 8   DOLocationID           22699 non-null  int64  \n",
      " 9   payment_type           22699 non-null  int64  \n",
      " 10  fare_amount            22699 non-null  float64\n",
      " 11  extra                  22699 non-null  float64\n",
      " 12  mta_tax                22699 non-null  float64\n",
      " 13  tip_amount             22699 non-null  float64\n",
      " 14  tolls_amount           22699 non-null  float64\n",
      " 15  improvement_surcharge  22699 non-null  float64\n",
      " 16  total_amount           22699 non-null  float64\n",
      "dtypes: float64(8), int64(6), object(3)\n",
      "memory usage: 3.1+ MB\n"
     ]
    }
   ],
   "source": [
    "# Keeping `df0` as the original dataframe and creating a copy (df) where changes will go\n",
    "# Can revert `df` to `df0` if needed down the line\n",
    "df = df0.copy()\n",
    "\n",
    "# Display the dataset's shape\n",
    "print(df.shape)\n",
    "\n",
    "# Display basic info about the dataset\n",
    "df.info()"
   ]
  },
  {
   "cell_type": "code",
   "execution_count": 28,
   "metadata": {
    "id": "3QZZIxxi3OV3"
   },
   "outputs": [
    {
     "name": "stdout",
     "output_type": "stream",
     "text": [
      "Shape of dataframe: (22699, 17)\n",
      "Shape of dataframe with duplicates dropped: (22699, 17)\n",
      "Total count of missing values: 0\n",
      "Missing values per column:\n"
     ]
    },
    {
     "data": {
      "text/plain": [
       "VendorID                 0\n",
       "tpep_pickup_datetime     0\n",
       "tpep_dropoff_datetime    0\n",
       "passenger_count          0\n",
       "trip_distance            0\n",
       "RatecodeID               0\n",
       "store_and_fwd_flag       0\n",
       "PULocationID             0\n",
       "DOLocationID             0\n",
       "payment_type             0\n",
       "fare_amount              0\n",
       "extra                    0\n",
       "mta_tax                  0\n",
       "tip_amount               0\n",
       "tolls_amount             0\n",
       "improvement_surcharge    0\n",
       "total_amount             0\n",
       "dtype: int64"
      ]
     },
     "execution_count": 28,
     "metadata": {},
     "output_type": "execute_result"
    }
   ],
   "source": [
    "# Check for duplicates\n",
    "print('Shape of dataframe:', df.shape)\n",
    "print('Shape of dataframe with duplicates dropped:', df.drop_duplicates().shape)\n",
    "\n",
    "# Check for missing values in dataframe\n",
    "print('Total count of missing values:', df.isna().sum().sum())\n",
    "\n",
    "# Display missing values per column in dataframe\n",
    "print('Missing values per column:')\n",
    "df.isna().sum()"
   ]
  },
  {
   "cell_type": "code",
   "execution_count": 29,
   "metadata": {
    "id": "2O3b9H9B9nwk"
   },
   "outputs": [
    {
     "data": {
      "text/html": [
       "<div>\n",
       "<style scoped>\n",
       "    .dataframe tbody tr th:only-of-type {\n",
       "        vertical-align: middle;\n",
       "    }\n",
       "\n",
       "    .dataframe tbody tr th {\n",
       "        vertical-align: top;\n",
       "    }\n",
       "\n",
       "    .dataframe thead th {\n",
       "        text-align: right;\n",
       "    }\n",
       "</style>\n",
       "<table border=\"1\" class=\"dataframe\">\n",
       "  <thead>\n",
       "    <tr style=\"text-align: right;\">\n",
       "      <th></th>\n",
       "      <th>VendorID</th>\n",
       "      <th>passenger_count</th>\n",
       "      <th>trip_distance</th>\n",
       "      <th>RatecodeID</th>\n",
       "      <th>PULocationID</th>\n",
       "      <th>DOLocationID</th>\n",
       "      <th>payment_type</th>\n",
       "      <th>fare_amount</th>\n",
       "      <th>extra</th>\n",
       "      <th>mta_tax</th>\n",
       "      <th>tip_amount</th>\n",
       "      <th>tolls_amount</th>\n",
       "      <th>improvement_surcharge</th>\n",
       "      <th>total_amount</th>\n",
       "    </tr>\n",
       "  </thead>\n",
       "  <tbody>\n",
       "    <tr>\n",
       "      <th>count</th>\n",
       "      <td>22699.000000</td>\n",
       "      <td>22699.000000</td>\n",
       "      <td>22699.000000</td>\n",
       "      <td>22699.000000</td>\n",
       "      <td>22699.000000</td>\n",
       "      <td>22699.000000</td>\n",
       "      <td>22699.000000</td>\n",
       "      <td>22699.000000</td>\n",
       "      <td>22699.000000</td>\n",
       "      <td>22699.000000</td>\n",
       "      <td>22699.000000</td>\n",
       "      <td>22699.000000</td>\n",
       "      <td>22699.000000</td>\n",
       "      <td>22699.000000</td>\n",
       "    </tr>\n",
       "    <tr>\n",
       "      <th>mean</th>\n",
       "      <td>1.556236</td>\n",
       "      <td>1.642319</td>\n",
       "      <td>2.913313</td>\n",
       "      <td>1.043394</td>\n",
       "      <td>162.412353</td>\n",
       "      <td>161.527997</td>\n",
       "      <td>1.336887</td>\n",
       "      <td>13.026629</td>\n",
       "      <td>0.333275</td>\n",
       "      <td>0.497445</td>\n",
       "      <td>1.835781</td>\n",
       "      <td>0.312542</td>\n",
       "      <td>0.299551</td>\n",
       "      <td>16.310502</td>\n",
       "    </tr>\n",
       "    <tr>\n",
       "      <th>std</th>\n",
       "      <td>0.496838</td>\n",
       "      <td>1.285231</td>\n",
       "      <td>3.653171</td>\n",
       "      <td>0.708391</td>\n",
       "      <td>66.633373</td>\n",
       "      <td>70.139691</td>\n",
       "      <td>0.496211</td>\n",
       "      <td>13.243791</td>\n",
       "      <td>0.463097</td>\n",
       "      <td>0.039465</td>\n",
       "      <td>2.800626</td>\n",
       "      <td>1.399212</td>\n",
       "      <td>0.015673</td>\n",
       "      <td>16.097295</td>\n",
       "    </tr>\n",
       "    <tr>\n",
       "      <th>min</th>\n",
       "      <td>1.000000</td>\n",
       "      <td>0.000000</td>\n",
       "      <td>0.000000</td>\n",
       "      <td>1.000000</td>\n",
       "      <td>1.000000</td>\n",
       "      <td>1.000000</td>\n",
       "      <td>1.000000</td>\n",
       "      <td>-120.000000</td>\n",
       "      <td>-1.000000</td>\n",
       "      <td>-0.500000</td>\n",
       "      <td>0.000000</td>\n",
       "      <td>0.000000</td>\n",
       "      <td>-0.300000</td>\n",
       "      <td>-120.300000</td>\n",
       "    </tr>\n",
       "    <tr>\n",
       "      <th>25%</th>\n",
       "      <td>1.000000</td>\n",
       "      <td>1.000000</td>\n",
       "      <td>0.990000</td>\n",
       "      <td>1.000000</td>\n",
       "      <td>114.000000</td>\n",
       "      <td>112.000000</td>\n",
       "      <td>1.000000</td>\n",
       "      <td>6.500000</td>\n",
       "      <td>0.000000</td>\n",
       "      <td>0.500000</td>\n",
       "      <td>0.000000</td>\n",
       "      <td>0.000000</td>\n",
       "      <td>0.300000</td>\n",
       "      <td>8.750000</td>\n",
       "    </tr>\n",
       "    <tr>\n",
       "      <th>50%</th>\n",
       "      <td>2.000000</td>\n",
       "      <td>1.000000</td>\n",
       "      <td>1.610000</td>\n",
       "      <td>1.000000</td>\n",
       "      <td>162.000000</td>\n",
       "      <td>162.000000</td>\n",
       "      <td>1.000000</td>\n",
       "      <td>9.500000</td>\n",
       "      <td>0.000000</td>\n",
       "      <td>0.500000</td>\n",
       "      <td>1.350000</td>\n",
       "      <td>0.000000</td>\n",
       "      <td>0.300000</td>\n",
       "      <td>11.800000</td>\n",
       "    </tr>\n",
       "    <tr>\n",
       "      <th>75%</th>\n",
       "      <td>2.000000</td>\n",
       "      <td>2.000000</td>\n",
       "      <td>3.060000</td>\n",
       "      <td>1.000000</td>\n",
       "      <td>233.000000</td>\n",
       "      <td>233.000000</td>\n",
       "      <td>2.000000</td>\n",
       "      <td>14.500000</td>\n",
       "      <td>0.500000</td>\n",
       "      <td>0.500000</td>\n",
       "      <td>2.450000</td>\n",
       "      <td>0.000000</td>\n",
       "      <td>0.300000</td>\n",
       "      <td>17.800000</td>\n",
       "    </tr>\n",
       "    <tr>\n",
       "      <th>max</th>\n",
       "      <td>2.000000</td>\n",
       "      <td>6.000000</td>\n",
       "      <td>33.960000</td>\n",
       "      <td>99.000000</td>\n",
       "      <td>265.000000</td>\n",
       "      <td>265.000000</td>\n",
       "      <td>4.000000</td>\n",
       "      <td>999.990000</td>\n",
       "      <td>4.500000</td>\n",
       "      <td>0.500000</td>\n",
       "      <td>200.000000</td>\n",
       "      <td>19.100000</td>\n",
       "      <td>0.300000</td>\n",
       "      <td>1200.290000</td>\n",
       "    </tr>\n",
       "  </tbody>\n",
       "</table>\n",
       "</div>"
      ],
      "text/plain": [
       "           VendorID  passenger_count  trip_distance    RatecodeID   \n",
       "count  22699.000000     22699.000000   22699.000000  22699.000000  \\\n",
       "mean       1.556236         1.642319       2.913313      1.043394   \n",
       "std        0.496838         1.285231       3.653171      0.708391   \n",
       "min        1.000000         0.000000       0.000000      1.000000   \n",
       "25%        1.000000         1.000000       0.990000      1.000000   \n",
       "50%        2.000000         1.000000       1.610000      1.000000   \n",
       "75%        2.000000         2.000000       3.060000      1.000000   \n",
       "max        2.000000         6.000000      33.960000     99.000000   \n",
       "\n",
       "       PULocationID  DOLocationID  payment_type   fare_amount         extra   \n",
       "count  22699.000000  22699.000000  22699.000000  22699.000000  22699.000000  \\\n",
       "mean     162.412353    161.527997      1.336887     13.026629      0.333275   \n",
       "std       66.633373     70.139691      0.496211     13.243791      0.463097   \n",
       "min        1.000000      1.000000      1.000000   -120.000000     -1.000000   \n",
       "25%      114.000000    112.000000      1.000000      6.500000      0.000000   \n",
       "50%      162.000000    162.000000      1.000000      9.500000      0.000000   \n",
       "75%      233.000000    233.000000      2.000000     14.500000      0.500000   \n",
       "max      265.000000    265.000000      4.000000    999.990000      4.500000   \n",
       "\n",
       "            mta_tax    tip_amount  tolls_amount  improvement_surcharge   \n",
       "count  22699.000000  22699.000000  22699.000000           22699.000000  \\\n",
       "mean       0.497445      1.835781      0.312542               0.299551   \n",
       "std        0.039465      2.800626      1.399212               0.015673   \n",
       "min       -0.500000      0.000000      0.000000              -0.300000   \n",
       "25%        0.500000      0.000000      0.000000               0.300000   \n",
       "50%        0.500000      1.350000      0.000000               0.300000   \n",
       "75%        0.500000      2.450000      0.000000               0.300000   \n",
       "max        0.500000    200.000000     19.100000               0.300000   \n",
       "\n",
       "       total_amount  \n",
       "count  22699.000000  \n",
       "mean      16.310502  \n",
       "std       16.097295  \n",
       "min     -120.300000  \n",
       "25%        8.750000  \n",
       "50%       11.800000  \n",
       "75%       17.800000  \n",
       "max     1200.290000  "
      ]
     },
     "execution_count": 29,
     "metadata": {},
     "output_type": "execute_result"
    }
   ],
   "source": [
    "# Display descriptive stats about the data\n",
    "df.describe()"
   ]
  },
  {
   "cell_type": "code",
   "execution_count": 30,
   "metadata": {},
   "outputs": [
    {
     "name": "stdout",
     "output_type": "stream",
     "text": [
      "Data type of tpep_pickup_datetime: object\n",
      "Data type of tpep_dropoff_datetime: object\n",
      "Data type of tpep_pickup_datetime: datetime64[ns]\n",
      "Data type of tpep_dropoff_datetime: datetime64[ns]\n"
     ]
    },
    {
     "data": {
      "text/html": [
       "<div>\n",
       "<style scoped>\n",
       "    .dataframe tbody tr th:only-of-type {\n",
       "        vertical-align: middle;\n",
       "    }\n",
       "\n",
       "    .dataframe tbody tr th {\n",
       "        vertical-align: top;\n",
       "    }\n",
       "\n",
       "    .dataframe thead th {\n",
       "        text-align: right;\n",
       "    }\n",
       "</style>\n",
       "<table border=\"1\" class=\"dataframe\">\n",
       "  <thead>\n",
       "    <tr style=\"text-align: right;\">\n",
       "      <th></th>\n",
       "      <th>VendorID</th>\n",
       "      <th>tpep_pickup_datetime</th>\n",
       "      <th>tpep_dropoff_datetime</th>\n",
       "      <th>passenger_count</th>\n",
       "      <th>trip_distance</th>\n",
       "      <th>RatecodeID</th>\n",
       "      <th>store_and_fwd_flag</th>\n",
       "      <th>PULocationID</th>\n",
       "      <th>DOLocationID</th>\n",
       "      <th>payment_type</th>\n",
       "      <th>fare_amount</th>\n",
       "      <th>extra</th>\n",
       "      <th>mta_tax</th>\n",
       "      <th>tip_amount</th>\n",
       "      <th>tolls_amount</th>\n",
       "      <th>improvement_surcharge</th>\n",
       "      <th>total_amount</th>\n",
       "    </tr>\n",
       "  </thead>\n",
       "  <tbody>\n",
       "    <tr>\n",
       "      <th>24870114</th>\n",
       "      <td>2</td>\n",
       "      <td>2017-03-25 08:55:43</td>\n",
       "      <td>2017-03-25 09:09:47</td>\n",
       "      <td>6</td>\n",
       "      <td>3.34</td>\n",
       "      <td>1</td>\n",
       "      <td>N</td>\n",
       "      <td>100</td>\n",
       "      <td>231</td>\n",
       "      <td>1</td>\n",
       "      <td>13.0</td>\n",
       "      <td>0.0</td>\n",
       "      <td>0.5</td>\n",
       "      <td>2.76</td>\n",
       "      <td>0.0</td>\n",
       "      <td>0.3</td>\n",
       "      <td>16.56</td>\n",
       "    </tr>\n",
       "    <tr>\n",
       "      <th>35634249</th>\n",
       "      <td>1</td>\n",
       "      <td>2017-04-11 14:53:28</td>\n",
       "      <td>2017-04-11 15:19:58</td>\n",
       "      <td>1</td>\n",
       "      <td>1.80</td>\n",
       "      <td>1</td>\n",
       "      <td>N</td>\n",
       "      <td>186</td>\n",
       "      <td>43</td>\n",
       "      <td>1</td>\n",
       "      <td>16.0</td>\n",
       "      <td>0.0</td>\n",
       "      <td>0.5</td>\n",
       "      <td>4.00</td>\n",
       "      <td>0.0</td>\n",
       "      <td>0.3</td>\n",
       "      <td>20.80</td>\n",
       "    </tr>\n",
       "    <tr>\n",
       "      <th>106203690</th>\n",
       "      <td>1</td>\n",
       "      <td>2017-12-15 07:26:56</td>\n",
       "      <td>2017-12-15 07:34:08</td>\n",
       "      <td>1</td>\n",
       "      <td>1.00</td>\n",
       "      <td>1</td>\n",
       "      <td>N</td>\n",
       "      <td>262</td>\n",
       "      <td>236</td>\n",
       "      <td>1</td>\n",
       "      <td>6.5</td>\n",
       "      <td>0.0</td>\n",
       "      <td>0.5</td>\n",
       "      <td>1.45</td>\n",
       "      <td>0.0</td>\n",
       "      <td>0.3</td>\n",
       "      <td>8.75</td>\n",
       "    </tr>\n",
       "  </tbody>\n",
       "</table>\n",
       "</div>"
      ],
      "text/plain": [
       "           VendorID tpep_pickup_datetime tpep_dropoff_datetime   \n",
       "24870114          2  2017-03-25 08:55:43   2017-03-25 09:09:47  \\\n",
       "35634249          1  2017-04-11 14:53:28   2017-04-11 15:19:58   \n",
       "106203690         1  2017-12-15 07:26:56   2017-12-15 07:34:08   \n",
       "\n",
       "           passenger_count  trip_distance  RatecodeID store_and_fwd_flag   \n",
       "24870114                 6           3.34           1                  N  \\\n",
       "35634249                 1           1.80           1                  N   \n",
       "106203690                1           1.00           1                  N   \n",
       "\n",
       "           PULocationID  DOLocationID  payment_type  fare_amount  extra   \n",
       "24870114            100           231             1         13.0    0.0  \\\n",
       "35634249            186            43             1         16.0    0.0   \n",
       "106203690           262           236             1          6.5    0.0   \n",
       "\n",
       "           mta_tax  tip_amount  tolls_amount  improvement_surcharge   \n",
       "24870114       0.5        2.76           0.0                    0.3  \\\n",
       "35634249       0.5        4.00           0.0                    0.3   \n",
       "106203690      0.5        1.45           0.0                    0.3   \n",
       "\n",
       "           total_amount  \n",
       "24870114          16.56  \n",
       "35634249          20.80  \n",
       "106203690          8.75  "
      ]
     },
     "execution_count": 30,
     "metadata": {},
     "output_type": "execute_result"
    }
   ],
   "source": [
    "# Convert datetime columns to datetime\n",
    "# Display data types of `tpep_pickup_datetime`, `tpep_dropoff_datetime`\n",
    "print('Data type of tpep_pickup_datetime:', df['tpep_pickup_datetime'].dtype)\n",
    "print('Data type of tpep_dropoff_datetime:', df['tpep_dropoff_datetime'].dtype)\n",
    "\n",
    "# Convert `tpep_pickup_datetime` to datetime format\n",
    "df['tpep_pickup_datetime'] = pd.to_datetime(df['tpep_pickup_datetime'], format='%m/%d/%Y %I:%M:%S %p')\n",
    "\n",
    "# Convert `tpep_dropoff_datetime` to datetime format\n",
    "df['tpep_dropoff_datetime'] = pd.to_datetime(df['tpep_dropoff_datetime'], format='%m/%d/%Y %I:%M:%S %p')\n",
    "\n",
    "# Display data types of `tpep_pickup_datetime`, `tpep_dropoff_datetime`\n",
    "print('Data type of tpep_pickup_datetime:', df['tpep_pickup_datetime'].dtype)\n",
    "print('Data type of tpep_dropoff_datetime:', df['tpep_dropoff_datetime'].dtype)\n",
    "\n",
    "df.head(3)"
   ]
  },
  {
   "cell_type": "markdown",
   "metadata": {
    "id": "KlF7ZNSyW0yV"
   },
   "source": [
    "### Task 2c. Create duration column"
   ]
  },
  {
   "cell_type": "markdown",
   "metadata": {
    "id": "w1v_Y1uunbsx"
   },
   "source": [
    "Create a new column called `duration` that represents the total number of minutes that each taxi ride took."
   ]
  },
  {
   "cell_type": "code",
   "execution_count": 31,
   "metadata": {
    "id": "suC4LJFPMPCo"
   },
   "outputs": [],
   "source": [
    "# Create `duration` column\n",
    "df['duration'] = (df['tpep_dropoff_datetime'] - df['tpep_pickup_datetime'])/np.timedelta64(1,'m')"
   ]
  },
  {
   "cell_type": "markdown",
   "metadata": {
    "id": "7dcytBKhiGAr"
   },
   "source": [
    "### Outliers"
   ]
  },
  {
   "cell_type": "markdown",
   "metadata": {
    "id": "gS7VR2S0izZE"
   },
   "source": [
    "Keeping in mind that many of the features will not be used to fit your model, the most important columns to check for outliers are likely to be:\n",
    "* `trip_distance`\n",
    "* `fare_amount`\n",
    "* `duration`\n",
    "\n"
   ]
  },
  {
   "cell_type": "markdown",
   "metadata": {
    "id": "Vtj4iAJMk9Vc"
   },
   "source": [
    "### Task 2d. Box plots\n",
    "\n",
    "Plot a box plot for each feature: `trip_distance`, `fare_amount`, `duration`."
   ]
  },
  {
   "cell_type": "code",
   "execution_count": 32,
   "metadata": {
    "id": "KCEzE-gwL5gq"
   },
   "outputs": [
    {
     "data": {
      "image/png": "[encoded data removed]",
      "text/plain": [
       "<Figure size 1500x200 with 3 Axes>"
      ]
     },
     "metadata": {},
     "output_type": "display_data"
    }
   ],
   "source": [
    "# box plot of trip_distance\n",
    "fig, axes = plt.subplots(1, 3, figsize=(15, 2))\n",
    "fig.suptitle('Boxplots for outlier detection')\n",
    "sns.boxplot(ax=axes[0], x=df['trip_distance'])\n",
    "sns.boxplot(ax=axes[1], x=df['fare_amount'])\n",
    "sns.boxplot(ax=axes[2], x=df['duration'])\n",
    "plt.show();"
   ]
  },
  {
   "cell_type": "markdown",
   "metadata": {
    "id": "pqcGiHLa4TvP"
   },
   "source": [
    "**Questions:** \n",
    "1. Which variable(s) contains outliers? \n",
    "2. Are the values in the `trip_distance` column unbelievable?\n",
    "3. What about the lower end? Do distances, fares, and durations of 0 (or negative values) make sense?"
   ]
  },
  {
   "cell_type": "markdown",
   "metadata": {
    "id": "FetTHatPoR6n"
   },
   "source": [
    "**Answers:** \n",
    "1. All three variables contain outliers. Some are extreme, but others not so much.\n",
    "2. The values for `fare_amount` and `duration` definitely seem to have problematic outliers on the higher end.\n",
    "3. Probably not for the latter two, but for `trip_distance` it might be okay."
   ]
  },
  {
   "cell_type": "markdown",
   "metadata": {},
   "source": [
    "### Task 2e. Imputations"
   ]
  },
  {
   "cell_type": "markdown",
   "metadata": {},
   "source": [
    "#### `trip_distance` outliers\n",
    "\n",
    "You know from the summary statistics that there are trip distances of 0. Are these reflective of erroneous data, or are they very short trips that get rounded down?\n",
    "\n",
    "To check, sort the column values, eliminate duplicates, and inspect the least 10 values. Are they rounded values or precise values?"
   ]
  },
  {
   "cell_type": "code",
   "execution_count": 33,
   "metadata": {},
   "outputs": [
    {
     "data": {
      "text/plain": [
       "[0.0, 0.01, 0.02, 0.03, 0.04, 0.05, 0.06, 0.07, 0.08, 0.09]"
      ]
     },
     "execution_count": 33,
     "metadata": {},
     "output_type": "execute_result"
    }
   ],
   "source": [
    "# Are trip distances of 0 bad data or very short trips rounded down?\n",
    "sorted(set(df['trip_distance']))[:10]"
   ]
  },
  {
   "cell_type": "markdown",
   "metadata": {},
   "source": [
    "The distances are captured with a high degree of precision. However, it might be possible for trips to have distances of zero if a passenger summoned a taxi and then changed their mind."
   ]
  },
  {
   "cell_type": "code",
   "execution_count": 34,
   "metadata": {},
   "outputs": [
    {
     "data": {
      "text/plain": [
       "148"
      ]
     },
     "execution_count": 34,
     "metadata": {},
     "output_type": "execute_result"
    }
   ],
   "source": [
    "# Calculate the count of rides where the `trip_distance` is zero.\n",
    "sum(df['trip_distance']==0)"
   ]
  },
  {
   "cell_type": "markdown",
   "metadata": {},
   "source": [
    "`Note` : 148 out of ~23,000 rides is relatively insignificant. we could impute it with a value of 0.01, but it's unlikely to have much of an effect on the model. Therefore, the `trip_distance` column will remain untouched with regard to outliers."
   ]
  },
  {
   "cell_type": "markdown",
   "metadata": {},
   "source": [
    "#### `fare_amount` outliers"
   ]
  },
  {
   "cell_type": "code",
   "execution_count": 35,
   "metadata": {},
   "outputs": [
    {
     "data": {
      "text/plain": [
       "count    22699.000000\n",
       "mean        13.026629\n",
       "std         13.243791\n",
       "min       -120.000000\n",
       "25%          6.500000\n",
       "50%          9.500000\n",
       "75%         14.500000\n",
       "max        999.990000\n",
       "Name: fare_amount, dtype: float64"
      ]
     },
     "execution_count": 35,
     "metadata": {},
     "output_type": "execute_result"
    }
   ],
   "source": [
    "df['fare_amount'].describe()"
   ]
  },
  {
   "cell_type": "markdown",
   "metadata": {},
   "source": [
    "`Note` : The range of values in the `fare_amount` column is large and the extremes don't make much sense."
   ]
  },
  {
   "cell_type": "code",
   "execution_count": 36,
   "metadata": {},
   "outputs": [
    {
     "name": "stdout",
     "output_type": "stream",
     "text": [
      "Upper limit for fare_amount: 66.5\n"
     ]
    }
   ],
   "source": [
    "# Compute Q3 + 1.5* 9.50\n",
    "Q3 = 9.50\n",
    "IQR = 6\n",
    "upper_limit = Q3 + IQR * 9.50\n",
    "print('Upper limit for fare_amount:', upper_limit)"
   ]
  },
  {
   "cell_type": "markdown",
   "metadata": {},
   "source": [
    "* **Low values:** Negative values are problematic. Values of zero could be legitimate if the taxi logged a trip that was immediately canceled.\n",
    "\n",
    "* **High values:** The maximum fare amount in this dataset is nearly \\$1,000, which seems very unlikely. The interquartile range (IQR) is \\$9.50. The standard formula of `Q3 + (1.5 * IQR)` yields \\$23.75. That doesn't seem appropriate for the maximum fare cap. In this case, we'll use a factor of `6`, which results in a cap of $66.5\n",
    "\n",
    "By increasing the multiplier, the upper bound of the data is extended to include more potential outliers that fall within this range. This can help to ensure that the analysis is more robust and accurate by including all relevant data points."
   ]
  },
  {
   "cell_type": "code",
   "execution_count": 37,
   "metadata": {},
   "outputs": [
    {
     "data": {
      "text/plain": [
       "0.0"
      ]
     },
     "execution_count": 37,
     "metadata": {},
     "output_type": "execute_result"
    }
   ],
   "source": [
    "# Impute values less than $0 with 0\n",
    "df.loc[df['fare_amount'] < 0, 'fare_amount'] = 0\n",
    "df['fare_amount'].min()"
   ]
  },
  {
   "cell_type": "markdown",
   "metadata": {},
   "source": [
    "Now we'll impute the maximum value as `Q3 + (6 * IQR)`."
   ]
  },
  {
   "cell_type": "code",
   "execution_count": 39,
   "metadata": {},
   "outputs": [],
   "source": [
    "def outlier_imputer(df, column_list, iqr_factor):\n",
    "    '''\n",
    "    Impute upper-limit values in specified columns based on their interquartile range.\n",
    "\n",
    "    Arguments:\n",
    "        df: The dataframe to be processed\n",
    "        column_list: A list of columns to iterate over\n",
    "        iqr_factor: A number representing x in the formula:\n",
    "                    Q3 + (x * IQR). Used to determine maximum threshold,\n",
    "                    beyond which a point is considered an outlier.\n",
    "\n",
    "    The IQR is computed for each column in column_list and values exceeding\n",
    "    the upper threshold for each column are imputed with the upper threshold value.\n",
    "    '''\n",
    "    for col in column_list:\n",
    "        # Reassign minimum to zero\n",
    "        df.loc[df[col] < 0, col] = 0\n",
    "\n",
    "        # Calculate upper threshold\n",
    "        q1 = df[col].quantile(0.25)\n",
    "        q3 = df[col].quantile(0.75)\n",
    "        iqr = q3 - q1\n",
    "        upper_threshold = q3 + (iqr_factor * iqr)\n",
    "        print(col)\n",
    "        print('q3:', q3)\n",
    "        print('upper_threshold:', upper_threshold)\n",
    "\n",
    "        # Reassign values > threshold to threshold\n",
    "        df.loc[df[col] > upper_threshold, col] = upper_threshold\n",
    "        print(df[col].describe())\n",
    "        print()"
   ]
  },
  {
   "cell_type": "code",
   "execution_count": 40,
   "metadata": {},
   "outputs": [
    {
     "ename": "TypeError",
     "evalue": "outlier_imputer() missing 1 required positional argument: 'iqr_factor'",
     "output_type": "error",
     "traceback": [
      "\u001b[1;31m---------------------------------------------------------------------------\u001b[0m",
      "\u001b[1;31mTypeError\u001b[0m                                 Traceback (most recent call last)",
      "Cell \u001b[1;32mIn[40], line 1\u001b[0m\n\u001b[1;32m----> 1\u001b[0m outlier_imputer([\u001b[39m'\u001b[39;49m\u001b[39mfare_amount\u001b[39;49m\u001b[39m'\u001b[39;49m], \u001b[39m6\u001b[39;49m)\n",
      "\u001b[1;31mTypeError\u001b[0m: outlier_imputer() missing 1 required positional argument: 'iqr_factor'"
     ]
    }
   ],
   "source": [
    "outlier_imputer(['fare_amount'], 6)"
   ]
  },
  {
   "cell_type": "markdown",
   "metadata": {},
   "source": [
    "#### `duration` outliers\n"
   ]
  },
  {
   "cell_type": "code",
   "execution_count": 41,
   "metadata": {},
   "outputs": [
    {
     "data": {
      "text/plain": [
       "count    22699.000000\n",
       "mean        17.013777\n",
       "std         61.996482\n",
       "min        -16.983333\n",
       "25%          6.650000\n",
       "50%         11.183333\n",
       "75%         18.383333\n",
       "max       1439.550000\n",
       "Name: duration, dtype: float64"
      ]
     },
     "execution_count": 41,
     "metadata": {},
     "output_type": "execute_result"
    }
   ],
   "source": [
    "# Call .describe() for duration outliers\n",
    "df['duration'].describe()"
   ]
  },
  {
   "cell_type": "markdown",
   "metadata": {},
   "source": [
    "The `duration` column has problematic values at both the lower and upper extremities.\n",
    "\n",
    "* **Low values:** There should be no values that represent negative time. Impute all negative durations with `0`.\n",
    "\n",
    "* **High values:** Impute high values the same way you imputed the high-end outliers for fares: `Q3 + (6 * IQR)`."
   ]
  },
  {
   "cell_type": "code",
   "execution_count": 42,
   "metadata": {},
   "outputs": [
    {
     "data": {
      "text/plain": [
       "0.0"
      ]
     },
     "execution_count": 42,
     "metadata": {},
     "output_type": "execute_result"
    }
   ],
   "source": [
    "# Impute a 0 for any negative values\n",
    "df.loc[df['duration'] < 0, 'duration'] = 0\n",
    "df['duration'].min()"
   ]
  },
  {
   "cell_type": "code",
   "execution_count": 44,
   "metadata": {},
   "outputs": [
    {
     "ename": "TypeError",
     "evalue": "outlier_imputer() missing 1 required positional argument: 'iqr_factor'",
     "output_type": "error",
     "traceback": [
      "\u001b[1;31m---------------------------------------------------------------------------\u001b[0m",
      "\u001b[1;31mTypeError\u001b[0m                                 Traceback (most recent call last)",
      "Cell \u001b[1;32mIn[44], line 2\u001b[0m\n\u001b[0;32m      1\u001b[0m \u001b[39m# Impute the high outliers\u001b[39;00m\n\u001b[1;32m----> 2\u001b[0m outlier_imputer([\u001b[39m'\u001b[39;49m\u001b[39mduration\u001b[39;49m\u001b[39m'\u001b[39;49m], \u001b[39m6\u001b[39;49m)\n",
      "\u001b[1;31mTypeError\u001b[0m: outlier_imputer() missing 1 required positional argument: 'iqr_factor'"
     ]
    }
   ],
   "source": [
    "# Impute the high outliers\n",
    "outlier_imputer(['duration'], 6)"
   ]
  },
  {
   "cell_type": "markdown",
   "metadata": {},
   "source": [
    "### Task 3a. Feature engineering"
   ]
  },
  {
   "cell_type": "markdown",
   "metadata": {},
   "source": [
    "#### Create `mean_distance` column\n",
    "\n",
    "When deployed, the model will not know the duration of a trip until after the trip occurs, so we cannot train a model that uses this feature. However, we can use the statistics of trips we *do* know to generalize about ones we do not know.\n",
    "\n",
    "In this step, we create a column called `mean_distance` that captures the mean distance for each group of trips that share pickup and dropoff points.\n",
    "\n",
    "We begin by creating a helper column called `pickup_dropoff`, which contains the unique combination of pickup and dropoff location IDs for each row.\n",
    "\n",
    "One way to do this is to convert the pickup and dropoff location IDs to strings and join them, separated by a space. The space is to ensure that, for example, a trip with pickup/dropoff points of 12 & 151 gets encoded differently than a trip with points 121 & 51."
   ]
  },
  {
   "cell_type": "code",
   "execution_count": 45,
   "metadata": {},
   "outputs": [
    {
     "data": {
      "text/plain": [
       "24870114    100 231\n",
       "35634249     186 43\n",
       "Name: pickup_dropoff, dtype: object"
      ]
     },
     "execution_count": 45,
     "metadata": {},
     "output_type": "execute_result"
    }
   ],
   "source": [
    "# Create `pickup_dropoff` column\n",
    "df['pickup_dropoff'] = df['PULocationID'].astype(str) + ' ' + df['DOLocationID'].astype(str)\n",
    "df['pickup_dropoff'].head(2)"
   ]
  },
  {
   "cell_type": "markdown",
   "metadata": {},
   "source": [
    "Now, we use a `groupby()` statement to group each row by the new `pickup_dropoff` column, compute the mean, and capture the values only in the `trip_distance` column. Assign the results to a variable named `grouped`."
   ]
  },
  {
   "cell_type": "code",
   "execution_count": 46,
   "metadata": {},
   "outputs": [
    {
     "data": {
      "text/html": [
       "<div>\n",
       "<style scoped>\n",
       "    .dataframe tbody tr th:only-of-type {\n",
       "        vertical-align: middle;\n",
       "    }\n",
       "\n",
       "    .dataframe tbody tr th {\n",
       "        vertical-align: top;\n",
       "    }\n",
       "\n",
       "    .dataframe thead th {\n",
       "        text-align: right;\n",
       "    }\n",
       "</style>\n",
       "<table border=\"1\" class=\"dataframe\">\n",
       "  <thead>\n",
       "    <tr style=\"text-align: right;\">\n",
       "      <th></th>\n",
       "      <th>trip_distance</th>\n",
       "    </tr>\n",
       "    <tr>\n",
       "      <th>pickup_dropoff</th>\n",
       "      <th></th>\n",
       "    </tr>\n",
       "  </thead>\n",
       "  <tbody>\n",
       "    <tr>\n",
       "      <th>1 1</th>\n",
       "      <td>2.433333</td>\n",
       "    </tr>\n",
       "    <tr>\n",
       "      <th>10 148</th>\n",
       "      <td>15.700000</td>\n",
       "    </tr>\n",
       "    <tr>\n",
       "      <th>100 1</th>\n",
       "      <td>16.890000</td>\n",
       "    </tr>\n",
       "    <tr>\n",
       "      <th>100 100</th>\n",
       "      <td>0.253333</td>\n",
       "    </tr>\n",
       "    <tr>\n",
       "      <th>100 107</th>\n",
       "      <td>1.180000</td>\n",
       "    </tr>\n",
       "  </tbody>\n",
       "</table>\n",
       "</div>"
      ],
      "text/plain": [
       "                trip_distance\n",
       "pickup_dropoff               \n",
       "1 1                  2.433333\n",
       "10 148              15.700000\n",
       "100 1               16.890000\n",
       "100 100              0.253333\n",
       "100 107              1.180000"
      ]
     },
     "execution_count": 46,
     "metadata": {},
     "output_type": "execute_result"
    }
   ],
   "source": [
    "grouped = df.groupby('pickup_dropoff').mean(numeric_only=True)[['trip_distance']]\n",
    "grouped[:5]"
   ]
  },
  {
   "cell_type": "markdown",
   "metadata": {},
   "source": [
    "`grouped` is an object of the `DataFrame` class.\n",
    "\n",
    "1. We convert it to a dictionary. Assign the results to a variable called `grouped_dict`. This will result in a dictionary with a key of `trip_distance` whose values are another dictionary. The inner dictionary's keys are pickup/dropoff points and its values are mean distances. This is the information needed.\n",
    "\n",
    "2. Reassign the `grouped_dict` dictionary so it contains only the inner dictionary. In other words, get rid of `trip_distance` as a key."
   ]
  },
  {
   "cell_type": "code",
   "execution_count": 47,
   "metadata": {},
   "outputs": [],
   "source": [
    "# 1. Convert `grouped` to a dictionary\n",
    "grouped_dict = grouped.to_dict()\n",
    "\n",
    "# 2. Reassign to only contain the inner dictionary\n",
    "grouped_dict = grouped_dict['trip_distance']"
   ]
  },
  {
   "cell_type": "markdown",
   "metadata": {},
   "source": [
    "1. Create a `mean_distance` column that is a copy of the `pickup_dropoff` helper column.\n",
    "\n",
    "2. Use the [`map()`](https://pandas.pydata.org/docs/reference/api/pandas.Series.map.html#pandas-series-map) method on the `mean_distance` series. Pass `grouped_dict` as its argument. Reassign the result back to the `mean_distance` series.\n",
    "</br></br>\n",
    "When we pass a dictionary to the `Series.map()` method, it will replace the data in the series where that data matches the dictionary's keys. The values that get imputed are the values of the dictionary.\n",
    "\n",
    "When used this way, the `map()` `Series` method is very similar to `replace()`, however, note that `map()` will impute `NaN` for any values in the series that do not have a corresponding key in the mapping dictionary."
   ]
  },
  {
   "cell_type": "code",
   "execution_count": 48,
   "metadata": {},
   "outputs": [
    {
     "data": {
      "text/html": [
       "<div>\n",
       "<style scoped>\n",
       "    .dataframe tbody tr th:only-of-type {\n",
       "        vertical-align: middle;\n",
       "    }\n",
       "\n",
       "    .dataframe tbody tr th {\n",
       "        vertical-align: top;\n",
       "    }\n",
       "\n",
       "    .dataframe thead th {\n",
       "        text-align: right;\n",
       "    }\n",
       "</style>\n",
       "<table border=\"1\" class=\"dataframe\">\n",
       "  <thead>\n",
       "    <tr style=\"text-align: right;\">\n",
       "      <th></th>\n",
       "      <th>mean_distance</th>\n",
       "    </tr>\n",
       "  </thead>\n",
       "  <tbody>\n",
       "    <tr>\n",
       "      <th>24870114</th>\n",
       "      <td>3.521667</td>\n",
       "    </tr>\n",
       "    <tr>\n",
       "      <th>96629892</th>\n",
       "      <td>3.521667</td>\n",
       "    </tr>\n",
       "    <tr>\n",
       "      <th>48945131</th>\n",
       "      <td>3.521667</td>\n",
       "    </tr>\n",
       "    <tr>\n",
       "      <th>50574134</th>\n",
       "      <td>3.521667</td>\n",
       "    </tr>\n",
       "    <tr>\n",
       "      <th>7282051</th>\n",
       "      <td>3.521667</td>\n",
       "    </tr>\n",
       "    <tr>\n",
       "      <th>49385419</th>\n",
       "      <td>3.521667</td>\n",
       "    </tr>\n",
       "  </tbody>\n",
       "</table>\n",
       "</div>"
      ],
      "text/plain": [
       "          mean_distance\n",
       "24870114       3.521667\n",
       "96629892       3.521667\n",
       "48945131       3.521667\n",
       "50574134       3.521667\n",
       "7282051        3.521667\n",
       "49385419       3.521667"
      ]
     },
     "execution_count": 48,
     "metadata": {},
     "output_type": "execute_result"
    }
   ],
   "source": [
    "# 1. Create a mean_distance column that is a copy of the pickup_dropoff helper column\n",
    "df['mean_distance'] = df['pickup_dropoff']\n",
    "\n",
    "# 2. Map `grouped_dict` to the `mean_distance` column\n",
    "df['mean_distance'] = df['mean_distance'].map(grouped_dict)\n",
    "\n",
    "# Confirm functioning\n",
    "df[(df['PULocationID']==100) & (df['DOLocationID']==231)][['mean_distance']]"
   ]
  },
  {
   "cell_type": "markdown",
   "metadata": {},
   "source": [
    "#### Create `mean_duration` column\n",
    "\n",
    "We repeat the process used to create the `mean_distance` column to create a `mean_duration` column."
   ]
  },
  {
   "cell_type": "code",
   "execution_count": 49,
   "metadata": {},
   "outputs": [
    {
     "data": {
      "text/html": [
       "<div>\n",
       "<style scoped>\n",
       "    .dataframe tbody tr th:only-of-type {\n",
       "        vertical-align: middle;\n",
       "    }\n",
       "\n",
       "    .dataframe tbody tr th {\n",
       "        vertical-align: top;\n",
       "    }\n",
       "\n",
       "    .dataframe thead th {\n",
       "        text-align: right;\n",
       "    }\n",
       "</style>\n",
       "<table border=\"1\" class=\"dataframe\">\n",
       "  <thead>\n",
       "    <tr style=\"text-align: right;\">\n",
       "      <th></th>\n",
       "      <th>mean_duration</th>\n",
       "    </tr>\n",
       "  </thead>\n",
       "  <tbody>\n",
       "    <tr>\n",
       "      <th>24870114</th>\n",
       "      <td>22.847222</td>\n",
       "    </tr>\n",
       "    <tr>\n",
       "      <th>96629892</th>\n",
       "      <td>22.847222</td>\n",
       "    </tr>\n",
       "    <tr>\n",
       "      <th>48945131</th>\n",
       "      <td>22.847222</td>\n",
       "    </tr>\n",
       "    <tr>\n",
       "      <th>50574134</th>\n",
       "      <td>22.847222</td>\n",
       "    </tr>\n",
       "    <tr>\n",
       "      <th>7282051</th>\n",
       "      <td>22.847222</td>\n",
       "    </tr>\n",
       "    <tr>\n",
       "      <th>49385419</th>\n",
       "      <td>22.847222</td>\n",
       "    </tr>\n",
       "  </tbody>\n",
       "</table>\n",
       "</div>"
      ],
      "text/plain": [
       "          mean_duration\n",
       "24870114      22.847222\n",
       "96629892      22.847222\n",
       "48945131      22.847222\n",
       "50574134      22.847222\n",
       "7282051       22.847222\n",
       "49385419      22.847222"
      ]
     },
     "execution_count": 49,
     "metadata": {},
     "output_type": "execute_result"
    }
   ],
   "source": [
    "grouped = df.groupby('pickup_dropoff').mean(numeric_only=True)[['duration']]\n",
    "grouped\n",
    "\n",
    "# Create a dictionary where keys are unique pickup_dropoffs and values are\n",
    "# mean trip duration for all trips with those pickup_dropoff combos\n",
    "grouped_dict = grouped.to_dict()\n",
    "grouped_dict = grouped_dict['duration']\n",
    "\n",
    "df['mean_duration'] = df['pickup_dropoff']\n",
    "df['mean_duration'] = df['mean_duration'].map(grouped_dict)\n",
    "\n",
    "# Confirm that it worked\n",
    "df[(df['PULocationID']==100) & (df['DOLocationID']==231)][['mean_duration']]"
   ]
  },
  {
   "cell_type": "markdown",
   "metadata": {},
   "source": [
    "#### Create `day` and `month` columns\n",
    "\n",
    "Create two new columns, `day` (name of day) and `month` (name of month) by extracting the relevant information from the `tpep_pickup_datetime` column."
   ]
  },
  {
   "cell_type": "code",
   "execution_count": 50,
   "metadata": {},
   "outputs": [],
   "source": [
    "# Create 'day' col\n",
    "df['day'] = df['tpep_pickup_datetime'].dt.day_name().str.lower()\n",
    "\n",
    "# Create 'month' col\n",
    "df['month'] = df['tpep_pickup_datetime'].dt.strftime('%b').str.lower()"
   ]
  },
  {
   "cell_type": "markdown",
   "metadata": {},
   "source": [
    "#### Create `rush_hour` column\n",
    "\n",
    "We define rush hour as:\n",
    "* Any weekday (not Saturday or Sunday) AND\n",
    "* Either from 06:00&ndash;10:00 or from 16:00&ndash;20:00\n",
    "\n",
    "Create a binary `rush_hour` column that contains a 1 if the ride was during rush hour and a 0 if it was not."
   ]
  },
  {
   "cell_type": "code",
   "execution_count": 51,
   "metadata": {},
   "outputs": [],
   "source": [
    "# Create 'rush_hour' col, define rush hour as 6am-10am and 4pm-8pm\n",
    "df['rush_hour'] = df['tpep_pickup_datetime'].dt.hour\n",
    "\n",
    "# If day is Saturday or Sunday, impute 0 in `rush_hour` column\n",
    "df.loc[df['day'].isin(['saturday', 'sunday']), 'rush_hour'] = 0"
   ]
  },
  {
   "cell_type": "code",
   "execution_count": 52,
   "metadata": {},
   "outputs": [],
   "source": [
    "def rush_hourizer(hour):\n",
    "    if 6 <= hour['rush_hour'] < 10:\n",
    "        val = 1\n",
    "    elif 16 <= hour['rush_hour'] < 20:\n",
    "        val = 1\n",
    "    else:\n",
    "        val = 0\n",
    "    return val"
   ]
  },
  {
   "cell_type": "code",
   "execution_count": 53,
   "metadata": {},
   "outputs": [
    {
     "data": {
      "text/html": [
       "<div>\n",
       "<style scoped>\n",
       "    .dataframe tbody tr th:only-of-type {\n",
       "        vertical-align: middle;\n",
       "    }\n",
       "\n",
       "    .dataframe tbody tr th {\n",
       "        vertical-align: top;\n",
       "    }\n",
       "\n",
       "    .dataframe thead th {\n",
       "        text-align: right;\n",
       "    }\n",
       "</style>\n",
       "<table border=\"1\" class=\"dataframe\">\n",
       "  <thead>\n",
       "    <tr style=\"text-align: right;\">\n",
       "      <th></th>\n",
       "      <th>VendorID</th>\n",
       "      <th>tpep_pickup_datetime</th>\n",
       "      <th>tpep_dropoff_datetime</th>\n",
       "      <th>passenger_count</th>\n",
       "      <th>trip_distance</th>\n",
       "      <th>RatecodeID</th>\n",
       "      <th>store_and_fwd_flag</th>\n",
       "      <th>PULocationID</th>\n",
       "      <th>DOLocationID</th>\n",
       "      <th>payment_type</th>\n",
       "      <th>...</th>\n",
       "      <th>tolls_amount</th>\n",
       "      <th>improvement_surcharge</th>\n",
       "      <th>total_amount</th>\n",
       "      <th>duration</th>\n",
       "      <th>pickup_dropoff</th>\n",
       "      <th>mean_distance</th>\n",
       "      <th>mean_duration</th>\n",
       "      <th>day</th>\n",
       "      <th>month</th>\n",
       "      <th>rush_hour</th>\n",
       "    </tr>\n",
       "  </thead>\n",
       "  <tbody>\n",
       "    <tr>\n",
       "      <th>24870114</th>\n",
       "      <td>2</td>\n",
       "      <td>2017-03-25 08:55:43</td>\n",
       "      <td>2017-03-25 09:09:47</td>\n",
       "      <td>6</td>\n",
       "      <td>3.34</td>\n",
       "      <td>1</td>\n",
       "      <td>N</td>\n",
       "      <td>100</td>\n",
       "      <td>231</td>\n",
       "      <td>1</td>\n",
       "      <td>...</td>\n",
       "      <td>0.0</td>\n",
       "      <td>0.3</td>\n",
       "      <td>16.56</td>\n",
       "      <td>14.066667</td>\n",
       "      <td>100 231</td>\n",
       "      <td>3.521667</td>\n",
       "      <td>22.847222</td>\n",
       "      <td>saturday</td>\n",
       "      <td>mar</td>\n",
       "      <td>0</td>\n",
       "    </tr>\n",
       "    <tr>\n",
       "      <th>35634249</th>\n",
       "      <td>1</td>\n",
       "      <td>2017-04-11 14:53:28</td>\n",
       "      <td>2017-04-11 15:19:58</td>\n",
       "      <td>1</td>\n",
       "      <td>1.80</td>\n",
       "      <td>1</td>\n",
       "      <td>N</td>\n",
       "      <td>186</td>\n",
       "      <td>43</td>\n",
       "      <td>1</td>\n",
       "      <td>...</td>\n",
       "      <td>0.0</td>\n",
       "      <td>0.3</td>\n",
       "      <td>20.80</td>\n",
       "      <td>26.500000</td>\n",
       "      <td>186 43</td>\n",
       "      <td>3.108889</td>\n",
       "      <td>24.470370</td>\n",
       "      <td>tuesday</td>\n",
       "      <td>apr</td>\n",
       "      <td>0</td>\n",
       "    </tr>\n",
       "    <tr>\n",
       "      <th>106203690</th>\n",
       "      <td>1</td>\n",
       "      <td>2017-12-15 07:26:56</td>\n",
       "      <td>2017-12-15 07:34:08</td>\n",
       "      <td>1</td>\n",
       "      <td>1.00</td>\n",
       "      <td>1</td>\n",
       "      <td>N</td>\n",
       "      <td>262</td>\n",
       "      <td>236</td>\n",
       "      <td>1</td>\n",
       "      <td>...</td>\n",
       "      <td>0.0</td>\n",
       "      <td>0.3</td>\n",
       "      <td>8.75</td>\n",
       "      <td>7.200000</td>\n",
       "      <td>262 236</td>\n",
       "      <td>0.881429</td>\n",
       "      <td>7.250000</td>\n",
       "      <td>friday</td>\n",
       "      <td>dec</td>\n",
       "      <td>1</td>\n",
       "    </tr>\n",
       "    <tr>\n",
       "      <th>38942136</th>\n",
       "      <td>2</td>\n",
       "      <td>2017-05-07 13:17:59</td>\n",
       "      <td>2017-05-07 13:48:14</td>\n",
       "      <td>1</td>\n",
       "      <td>3.70</td>\n",
       "      <td>1</td>\n",
       "      <td>N</td>\n",
       "      <td>188</td>\n",
       "      <td>97</td>\n",
       "      <td>1</td>\n",
       "      <td>...</td>\n",
       "      <td>0.0</td>\n",
       "      <td>0.3</td>\n",
       "      <td>27.69</td>\n",
       "      <td>30.250000</td>\n",
       "      <td>188 97</td>\n",
       "      <td>3.700000</td>\n",
       "      <td>30.250000</td>\n",
       "      <td>sunday</td>\n",
       "      <td>may</td>\n",
       "      <td>0</td>\n",
       "    </tr>\n",
       "    <tr>\n",
       "      <th>30841670</th>\n",
       "      <td>2</td>\n",
       "      <td>2017-04-15 23:32:20</td>\n",
       "      <td>2017-04-15 23:49:03</td>\n",
       "      <td>1</td>\n",
       "      <td>4.37</td>\n",
       "      <td>1</td>\n",
       "      <td>N</td>\n",
       "      <td>4</td>\n",
       "      <td>112</td>\n",
       "      <td>2</td>\n",
       "      <td>...</td>\n",
       "      <td>0.0</td>\n",
       "      <td>0.3</td>\n",
       "      <td>17.80</td>\n",
       "      <td>16.716667</td>\n",
       "      <td>4 112</td>\n",
       "      <td>4.435000</td>\n",
       "      <td>14.616667</td>\n",
       "      <td>saturday</td>\n",
       "      <td>apr</td>\n",
       "      <td>0</td>\n",
       "    </tr>\n",
       "  </tbody>\n",
       "</table>\n",
       "<p>5 rows × 24 columns</p>\n",
       "</div>"
      ],
      "text/plain": [
       "           VendorID tpep_pickup_datetime tpep_dropoff_datetime   \n",
       "24870114          2  2017-03-25 08:55:43   2017-03-25 09:09:47  \\\n",
       "35634249          1  2017-04-11 14:53:28   2017-04-11 15:19:58   \n",
       "106203690         1  2017-12-15 07:26:56   2017-12-15 07:34:08   \n",
       "38942136          2  2017-05-07 13:17:59   2017-05-07 13:48:14   \n",
       "30841670          2  2017-04-15 23:32:20   2017-04-15 23:49:03   \n",
       "\n",
       "           passenger_count  trip_distance  RatecodeID store_and_fwd_flag   \n",
       "24870114                 6           3.34           1                  N  \\\n",
       "35634249                 1           1.80           1                  N   \n",
       "106203690                1           1.00           1                  N   \n",
       "38942136                 1           3.70           1                  N   \n",
       "30841670                 1           4.37           1                  N   \n",
       "\n",
       "           PULocationID  DOLocationID  payment_type  ...  tolls_amount   \n",
       "24870114            100           231             1  ...           0.0  \\\n",
       "35634249            186            43             1  ...           0.0   \n",
       "106203690           262           236             1  ...           0.0   \n",
       "38942136            188            97             1  ...           0.0   \n",
       "30841670              4           112             2  ...           0.0   \n",
       "\n",
       "           improvement_surcharge  total_amount   duration  pickup_dropoff   \n",
       "24870114                     0.3         16.56  14.066667         100 231  \\\n",
       "35634249                     0.3         20.80  26.500000          186 43   \n",
       "106203690                    0.3          8.75   7.200000         262 236   \n",
       "38942136                     0.3         27.69  30.250000          188 97   \n",
       "30841670                     0.3         17.80  16.716667           4 112   \n",
       "\n",
       "           mean_distance  mean_duration       day month  rush_hour  \n",
       "24870114        3.521667      22.847222  saturday   mar          0  \n",
       "35634249        3.108889      24.470370   tuesday   apr          0  \n",
       "106203690       0.881429       7.250000    friday   dec          1  \n",
       "38942136        3.700000      30.250000    sunday   may          0  \n",
       "30841670        4.435000      14.616667  saturday   apr          0  \n",
       "\n",
       "[5 rows x 24 columns]"
      ]
     },
     "execution_count": 53,
     "metadata": {},
     "output_type": "execute_result"
    }
   ],
   "source": [
    "# Apply the `rush_hourizer()` function to the new column\n",
    "df['rush_hour'] = df.apply(rush_hourizer, axis=1)\n",
    "df.head()"
   ]
  },
  {
   "cell_type": "markdown",
   "metadata": {},
   "source": [
    "### Task 4. Scatter plot\n",
    "\n",
    "Create a scatterplot to visualize the relationship between `mean_duration` and `fare_amount`."
   ]
  },
  {
   "cell_type": "code",
   "execution_count": 57,
   "metadata": {},
   "outputs": [
    {
     "data": {
      "image/png": "[encoded data removed]",
      "text/plain": [
       "<Figure size 500x500 with 1 Axes>"
      ]
     },
     "metadata": {},
     "output_type": "display_data"
    }
   ],
   "source": [
    "# Create a scatter plot of mean_duration and fare_amount, with a line of best fit\n",
    "sns.lmplot(x='mean_duration', y='fare_amount', data=df, scatter_kws={'alpha':0.5, 's':5}, line_kws={'color':'red'})\n",
    "plt.ylim(0, 70)\n",
    "plt.xlim(0, 70)\n",
    "plt.title('Mean duration x fare amount')\n",
    "plt.show()"
   ]
  },
  {
   "cell_type": "markdown",
   "metadata": {},
   "source": [
    "We notice the horizontal lines around fare amounts of 52 dollars. It is supposed to represent the maximum that was imputed for outliers."
   ]
  },
  {
   "cell_type": "code",
   "execution_count": 58,
   "metadata": {},
   "outputs": [
    {
     "data": {
      "text/plain": [
       "fare_amount\n",
       "52.0    514\n",
       "59.0      9\n",
       "50.5      9\n",
       "57.5      8\n",
       "51.0      7\n",
       "Name: count, dtype: int64"
      ]
     },
     "execution_count": 58,
     "metadata": {},
     "output_type": "execute_result"
    }
   ],
   "source": [
    "# Compute the value count of fare_amount above 50\n",
    "df[df['fare_amount'] > 50]['fare_amount'].value_counts().head()"
   ]
  },
  {
   "cell_type": "markdown",
   "metadata": {},
   "source": [
    "`Note` : There are 514 trips whose fares were 52 dollars."
   ]
  },
  {
   "cell_type": "markdown",
   "metadata": {},
   "source": [
    "Examine the first 30 of these trips."
   ]
  },
  {
   "cell_type": "code",
   "execution_count": 60,
   "metadata": {},
   "outputs": [
    {
     "data": {
      "text/html": [
       "<div>\n",
       "<style scoped>\n",
       "    .dataframe tbody tr th:only-of-type {\n",
       "        vertical-align: middle;\n",
       "    }\n",
       "\n",
       "    .dataframe tbody tr th {\n",
       "        vertical-align: top;\n",
       "    }\n",
       "\n",
       "    .dataframe thead th {\n",
       "        text-align: right;\n",
       "    }\n",
       "</style>\n",
       "<table border=\"1\" class=\"dataframe\">\n",
       "  <thead>\n",
       "    <tr style=\"text-align: right;\">\n",
       "      <th></th>\n",
       "      <th>VendorID</th>\n",
       "      <th>tpep_pickup_datetime</th>\n",
       "      <th>tpep_dropoff_datetime</th>\n",
       "      <th>passenger_count</th>\n",
       "      <th>trip_distance</th>\n",
       "      <th>RatecodeID</th>\n",
       "      <th>store_and_fwd_flag</th>\n",
       "      <th>PULocationID</th>\n",
       "      <th>DOLocationID</th>\n",
       "      <th>payment_type</th>\n",
       "      <th>fare_amount</th>\n",
       "      <th>extra</th>\n",
       "      <th>mta_tax</th>\n",
       "      <th>tip_amount</th>\n",
       "      <th>tolls_amount</th>\n",
       "      <th>improvement_surcharge</th>\n",
       "      <th>total_amount</th>\n",
       "      <th>duration</th>\n",
       "      <th>pickup_dropoff</th>\n",
       "      <th>mean_distance</th>\n",
       "      <th>mean_duration</th>\n",
       "      <th>day</th>\n",
       "      <th>month</th>\n",
       "      <th>rush_hour</th>\n",
       "    </tr>\n",
       "  </thead>\n",
       "  <tbody>\n",
       "    <tr>\n",
       "      <th>18600059</th>\n",
       "      <td>2</td>\n",
       "      <td>2017-03-05 19:15:30</td>\n",
       "      <td>2017-03-05 19:52:18</td>\n",
       "      <td>2</td>\n",
       "      <td>18.90</td>\n",
       "      <td>2</td>\n",
       "      <td>N</td>\n",
       "      <td>236</td>\n",
       "      <td>132</td>\n",
       "      <td>1</td>\n",
       "      <td>52.0</td>\n",
       "      <td>0.0</td>\n",
       "      <td>0.5</td>\n",
       "      <td>14.58</td>\n",
       "      <td>5.54</td>\n",
       "      <td>0.3</td>\n",
       "      <td>72.92</td>\n",
       "      <td>36.800000</td>\n",
       "      <td>236 132</td>\n",
       "      <td>19.211667</td>\n",
       "      <td>265.147222</td>\n",
       "      <td>sunday</td>\n",
       "      <td>mar</td>\n",
       "      <td>0</td>\n",
       "    </tr>\n",
       "    <tr>\n",
       "      <th>47959795</th>\n",
       "      <td>1</td>\n",
       "      <td>2017-06-03 14:24:57</td>\n",
       "      <td>2017-06-03 15:31:48</td>\n",
       "      <td>1</td>\n",
       "      <td>18.00</td>\n",
       "      <td>2</td>\n",
       "      <td>N</td>\n",
       "      <td>132</td>\n",
       "      <td>163</td>\n",
       "      <td>1</td>\n",
       "      <td>52.0</td>\n",
       "      <td>0.0</td>\n",
       "      <td>0.5</td>\n",
       "      <td>0.00</td>\n",
       "      <td>0.00</td>\n",
       "      <td>0.3</td>\n",
       "      <td>52.80</td>\n",
       "      <td>66.850000</td>\n",
       "      <td>132 163</td>\n",
       "      <td>19.229000</td>\n",
       "      <td>52.941667</td>\n",
       "      <td>saturday</td>\n",
       "      <td>jun</td>\n",
       "      <td>0</td>\n",
       "    </tr>\n",
       "    <tr>\n",
       "      <th>95729204</th>\n",
       "      <td>2</td>\n",
       "      <td>2017-11-11 20:16:16</td>\n",
       "      <td>2017-11-11 20:17:14</td>\n",
       "      <td>1</td>\n",
       "      <td>0.23</td>\n",
       "      <td>2</td>\n",
       "      <td>N</td>\n",
       "      <td>132</td>\n",
       "      <td>132</td>\n",
       "      <td>2</td>\n",
       "      <td>52.0</td>\n",
       "      <td>0.0</td>\n",
       "      <td>0.5</td>\n",
       "      <td>0.00</td>\n",
       "      <td>0.00</td>\n",
       "      <td>0.3</td>\n",
       "      <td>52.80</td>\n",
       "      <td>0.966667</td>\n",
       "      <td>132 132</td>\n",
       "      <td>2.255862</td>\n",
       "      <td>3.021839</td>\n",
       "      <td>saturday</td>\n",
       "      <td>nov</td>\n",
       "      <td>0</td>\n",
       "    </tr>\n",
       "    <tr>\n",
       "      <th>103404868</th>\n",
       "      <td>2</td>\n",
       "      <td>2017-12-06 23:37:08</td>\n",
       "      <td>2017-12-07 00:06:19</td>\n",
       "      <td>1</td>\n",
       "      <td>18.93</td>\n",
       "      <td>2</td>\n",
       "      <td>N</td>\n",
       "      <td>132</td>\n",
       "      <td>79</td>\n",
       "      <td>2</td>\n",
       "      <td>52.0</td>\n",
       "      <td>0.0</td>\n",
       "      <td>0.5</td>\n",
       "      <td>0.00</td>\n",
       "      <td>0.00</td>\n",
       "      <td>0.3</td>\n",
       "      <td>52.80</td>\n",
       "      <td>29.183333</td>\n",
       "      <td>132 79</td>\n",
       "      <td>19.431667</td>\n",
       "      <td>47.275000</td>\n",
       "      <td>wednesday</td>\n",
       "      <td>dec</td>\n",
       "      <td>0</td>\n",
       "    </tr>\n",
       "    <tr>\n",
       "      <th>80479432</th>\n",
       "      <td>2</td>\n",
       "      <td>2017-09-24 23:45:45</td>\n",
       "      <td>2017-09-25 00:15:14</td>\n",
       "      <td>1</td>\n",
       "      <td>17.99</td>\n",
       "      <td>2</td>\n",
       "      <td>N</td>\n",
       "      <td>132</td>\n",
       "      <td>234</td>\n",
       "      <td>1</td>\n",
       "      <td>52.0</td>\n",
       "      <td>0.0</td>\n",
       "      <td>0.5</td>\n",
       "      <td>14.64</td>\n",
       "      <td>5.76</td>\n",
       "      <td>0.3</td>\n",
       "      <td>73.20</td>\n",
       "      <td>29.483333</td>\n",
       "      <td>132 234</td>\n",
       "      <td>17.654000</td>\n",
       "      <td>49.833333</td>\n",
       "      <td>sunday</td>\n",
       "      <td>sep</td>\n",
       "      <td>0</td>\n",
       "    </tr>\n",
       "    <tr>\n",
       "      <th>16226157</th>\n",
       "      <td>1</td>\n",
       "      <td>2017-02-28 18:30:05</td>\n",
       "      <td>2017-02-28 19:09:55</td>\n",
       "      <td>1</td>\n",
       "      <td>18.40</td>\n",
       "      <td>2</td>\n",
       "      <td>N</td>\n",
       "      <td>132</td>\n",
       "      <td>48</td>\n",
       "      <td>2</td>\n",
       "      <td>52.0</td>\n",
       "      <td>4.5</td>\n",
       "      <td>0.5</td>\n",
       "      <td>0.00</td>\n",
       "      <td>5.54</td>\n",
       "      <td>0.3</td>\n",
       "      <td>62.84</td>\n",
       "      <td>39.833333</td>\n",
       "      <td>132 48</td>\n",
       "      <td>18.761905</td>\n",
       "      <td>61.604762</td>\n",
       "      <td>tuesday</td>\n",
       "      <td>feb</td>\n",
       "      <td>1</td>\n",
       "    </tr>\n",
       "    <tr>\n",
       "      <th>55253442</th>\n",
       "      <td>2</td>\n",
       "      <td>2017-06-05 12:51:58</td>\n",
       "      <td>2017-06-05 13:07:35</td>\n",
       "      <td>1</td>\n",
       "      <td>4.73</td>\n",
       "      <td>2</td>\n",
       "      <td>N</td>\n",
       "      <td>228</td>\n",
       "      <td>88</td>\n",
       "      <td>2</td>\n",
       "      <td>52.0</td>\n",
       "      <td>0.0</td>\n",
       "      <td>0.5</td>\n",
       "      <td>0.00</td>\n",
       "      <td>5.76</td>\n",
       "      <td>0.3</td>\n",
       "      <td>58.56</td>\n",
       "      <td>15.616667</td>\n",
       "      <td>228 88</td>\n",
       "      <td>4.730000</td>\n",
       "      <td>15.616667</td>\n",
       "      <td>monday</td>\n",
       "      <td>jun</td>\n",
       "      <td>0</td>\n",
       "    </tr>\n",
       "    <tr>\n",
       "      <th>65900029</th>\n",
       "      <td>2</td>\n",
       "      <td>2017-08-03 22:47:14</td>\n",
       "      <td>2017-08-03 23:32:41</td>\n",
       "      <td>2</td>\n",
       "      <td>18.21</td>\n",
       "      <td>2</td>\n",
       "      <td>N</td>\n",
       "      <td>132</td>\n",
       "      <td>48</td>\n",
       "      <td>2</td>\n",
       "      <td>52.0</td>\n",
       "      <td>0.0</td>\n",
       "      <td>0.5</td>\n",
       "      <td>0.00</td>\n",
       "      <td>5.76</td>\n",
       "      <td>0.3</td>\n",
       "      <td>58.56</td>\n",
       "      <td>45.450000</td>\n",
       "      <td>132 48</td>\n",
       "      <td>18.761905</td>\n",
       "      <td>61.604762</td>\n",
       "      <td>thursday</td>\n",
       "      <td>aug</td>\n",
       "      <td>0</td>\n",
       "    </tr>\n",
       "    <tr>\n",
       "      <th>80904240</th>\n",
       "      <td>2</td>\n",
       "      <td>2017-09-26 13:48:26</td>\n",
       "      <td>2017-09-26 14:31:17</td>\n",
       "      <td>1</td>\n",
       "      <td>17.27</td>\n",
       "      <td>2</td>\n",
       "      <td>N</td>\n",
       "      <td>186</td>\n",
       "      <td>132</td>\n",
       "      <td>2</td>\n",
       "      <td>52.0</td>\n",
       "      <td>0.0</td>\n",
       "      <td>0.5</td>\n",
       "      <td>0.00</td>\n",
       "      <td>5.76</td>\n",
       "      <td>0.3</td>\n",
       "      <td>58.56</td>\n",
       "      <td>42.850000</td>\n",
       "      <td>186 132</td>\n",
       "      <td>17.096000</td>\n",
       "      <td>42.920000</td>\n",
       "      <td>tuesday</td>\n",
       "      <td>sep</td>\n",
       "      <td>0</td>\n",
       "    </tr>\n",
       "    <tr>\n",
       "      <th>33706214</th>\n",
       "      <td>2</td>\n",
       "      <td>2017-04-23 21:34:48</td>\n",
       "      <td>2017-04-23 22:46:23</td>\n",
       "      <td>6</td>\n",
       "      <td>18.34</td>\n",
       "      <td>2</td>\n",
       "      <td>N</td>\n",
       "      <td>132</td>\n",
       "      <td>148</td>\n",
       "      <td>1</td>\n",
       "      <td>52.0</td>\n",
       "      <td>0.0</td>\n",
       "      <td>0.5</td>\n",
       "      <td>5.00</td>\n",
       "      <td>0.00</td>\n",
       "      <td>0.3</td>\n",
       "      <td>57.80</td>\n",
       "      <td>71.583333</td>\n",
       "      <td>132 148</td>\n",
       "      <td>17.994286</td>\n",
       "      <td>46.340476</td>\n",
       "      <td>sunday</td>\n",
       "      <td>apr</td>\n",
       "      <td>0</td>\n",
       "    </tr>\n",
       "    <tr>\n",
       "      <th>99259872</th>\n",
       "      <td>2</td>\n",
       "      <td>2017-11-22 21:31:32</td>\n",
       "      <td>2017-11-22 22:00:25</td>\n",
       "      <td>1</td>\n",
       "      <td>18.65</td>\n",
       "      <td>2</td>\n",
       "      <td>N</td>\n",
       "      <td>132</td>\n",
       "      <td>144</td>\n",
       "      <td>1</td>\n",
       "      <td>52.0</td>\n",
       "      <td>0.0</td>\n",
       "      <td>0.5</td>\n",
       "      <td>10.56</td>\n",
       "      <td>0.00</td>\n",
       "      <td>0.3</td>\n",
       "      <td>63.36</td>\n",
       "      <td>28.883333</td>\n",
       "      <td>132 144</td>\n",
       "      <td>18.537500</td>\n",
       "      <td>37.000000</td>\n",
       "      <td>wednesday</td>\n",
       "      <td>nov</td>\n",
       "      <td>0</td>\n",
       "    </tr>\n",
       "    <tr>\n",
       "      <th>61050418</th>\n",
       "      <td>2</td>\n",
       "      <td>2017-07-18 13:29:06</td>\n",
       "      <td>2017-07-18 13:29:19</td>\n",
       "      <td>1</td>\n",
       "      <td>0.00</td>\n",
       "      <td>2</td>\n",
       "      <td>N</td>\n",
       "      <td>230</td>\n",
       "      <td>161</td>\n",
       "      <td>1</td>\n",
       "      <td>52.0</td>\n",
       "      <td>0.0</td>\n",
       "      <td>0.5</td>\n",
       "      <td>11.71</td>\n",
       "      <td>5.76</td>\n",
       "      <td>0.3</td>\n",
       "      <td>70.27</td>\n",
       "      <td>0.216667</td>\n",
       "      <td>230 161</td>\n",
       "      <td>0.685484</td>\n",
       "      <td>7.965591</td>\n",
       "      <td>tuesday</td>\n",
       "      <td>jul</td>\n",
       "      <td>0</td>\n",
       "    </tr>\n",
       "    <tr>\n",
       "      <th>54444647</th>\n",
       "      <td>2</td>\n",
       "      <td>2017-06-26 13:39:12</td>\n",
       "      <td>2017-06-26 14:34:54</td>\n",
       "      <td>1</td>\n",
       "      <td>17.76</td>\n",
       "      <td>2</td>\n",
       "      <td>N</td>\n",
       "      <td>211</td>\n",
       "      <td>132</td>\n",
       "      <td>1</td>\n",
       "      <td>52.0</td>\n",
       "      <td>0.0</td>\n",
       "      <td>0.5</td>\n",
       "      <td>11.71</td>\n",
       "      <td>5.76</td>\n",
       "      <td>0.3</td>\n",
       "      <td>70.27</td>\n",
       "      <td>55.700000</td>\n",
       "      <td>211 132</td>\n",
       "      <td>16.580000</td>\n",
       "      <td>61.691667</td>\n",
       "      <td>monday</td>\n",
       "      <td>jun</td>\n",
       "      <td>0</td>\n",
       "    </tr>\n",
       "    <tr>\n",
       "      <th>94424289</th>\n",
       "      <td>2</td>\n",
       "      <td>2017-11-07 22:15:00</td>\n",
       "      <td>2017-11-07 22:45:32</td>\n",
       "      <td>2</td>\n",
       "      <td>16.97</td>\n",
       "      <td>2</td>\n",
       "      <td>N</td>\n",
       "      <td>132</td>\n",
       "      <td>170</td>\n",
       "      <td>1</td>\n",
       "      <td>52.0</td>\n",
       "      <td>0.0</td>\n",
       "      <td>0.5</td>\n",
       "      <td>11.71</td>\n",
       "      <td>5.76</td>\n",
       "      <td>0.3</td>\n",
       "      <td>70.27</td>\n",
       "      <td>30.533333</td>\n",
       "      <td>132 170</td>\n",
       "      <td>17.203000</td>\n",
       "      <td>37.113333</td>\n",
       "      <td>tuesday</td>\n",
       "      <td>nov</td>\n",
       "      <td>0</td>\n",
       "    </tr>\n",
       "    <tr>\n",
       "      <th>103094220</th>\n",
       "      <td>1</td>\n",
       "      <td>2017-12-06 05:19:50</td>\n",
       "      <td>2017-12-06 05:53:52</td>\n",
       "      <td>1</td>\n",
       "      <td>20.80</td>\n",
       "      <td>2</td>\n",
       "      <td>N</td>\n",
       "      <td>132</td>\n",
       "      <td>239</td>\n",
       "      <td>1</td>\n",
       "      <td>52.0</td>\n",
       "      <td>0.0</td>\n",
       "      <td>0.5</td>\n",
       "      <td>5.85</td>\n",
       "      <td>5.76</td>\n",
       "      <td>0.3</td>\n",
       "      <td>64.41</td>\n",
       "      <td>34.033333</td>\n",
       "      <td>132 239</td>\n",
       "      <td>20.901250</td>\n",
       "      <td>44.862500</td>\n",
       "      <td>wednesday</td>\n",
       "      <td>dec</td>\n",
       "      <td>0</td>\n",
       "    </tr>\n",
       "    <tr>\n",
       "      <th>66115834</th>\n",
       "      <td>1</td>\n",
       "      <td>2017-08-04 17:53:34</td>\n",
       "      <td>2017-08-04 18:50:56</td>\n",
       "      <td>1</td>\n",
       "      <td>21.60</td>\n",
       "      <td>2</td>\n",
       "      <td>N</td>\n",
       "      <td>264</td>\n",
       "      <td>264</td>\n",
       "      <td>1</td>\n",
       "      <td>52.0</td>\n",
       "      <td>4.5</td>\n",
       "      <td>0.5</td>\n",
       "      <td>12.60</td>\n",
       "      <td>5.76</td>\n",
       "      <td>0.3</td>\n",
       "      <td>75.66</td>\n",
       "      <td>57.366667</td>\n",
       "      <td>264 264</td>\n",
       "      <td>3.191516</td>\n",
       "      <td>25.329964</td>\n",
       "      <td>friday</td>\n",
       "      <td>aug</td>\n",
       "      <td>1</td>\n",
       "    </tr>\n",
       "    <tr>\n",
       "      <th>55934137</th>\n",
       "      <td>2</td>\n",
       "      <td>2017-06-09 09:31:25</td>\n",
       "      <td>2017-06-09 10:24:10</td>\n",
       "      <td>2</td>\n",
       "      <td>18.81</td>\n",
       "      <td>2</td>\n",
       "      <td>N</td>\n",
       "      <td>163</td>\n",
       "      <td>132</td>\n",
       "      <td>1</td>\n",
       "      <td>52.0</td>\n",
       "      <td>0.0</td>\n",
       "      <td>0.5</td>\n",
       "      <td>13.20</td>\n",
       "      <td>0.00</td>\n",
       "      <td>0.3</td>\n",
       "      <td>66.00</td>\n",
       "      <td>52.750000</td>\n",
       "      <td>163 132</td>\n",
       "      <td>17.275833</td>\n",
       "      <td>164.759722</td>\n",
       "      <td>friday</td>\n",
       "      <td>jun</td>\n",
       "      <td>1</td>\n",
       "    </tr>\n",
       "    <tr>\n",
       "      <th>13731926</th>\n",
       "      <td>2</td>\n",
       "      <td>2017-02-21 06:11:03</td>\n",
       "      <td>2017-02-21 06:59:39</td>\n",
       "      <td>5</td>\n",
       "      <td>16.94</td>\n",
       "      <td>2</td>\n",
       "      <td>N</td>\n",
       "      <td>132</td>\n",
       "      <td>170</td>\n",
       "      <td>1</td>\n",
       "      <td>52.0</td>\n",
       "      <td>0.0</td>\n",
       "      <td>0.5</td>\n",
       "      <td>2.00</td>\n",
       "      <td>5.54</td>\n",
       "      <td>0.3</td>\n",
       "      <td>60.34</td>\n",
       "      <td>48.600000</td>\n",
       "      <td>132 170</td>\n",
       "      <td>17.203000</td>\n",
       "      <td>37.113333</td>\n",
       "      <td>tuesday</td>\n",
       "      <td>feb</td>\n",
       "      <td>1</td>\n",
       "    </tr>\n",
       "    <tr>\n",
       "      <th>52277743</th>\n",
       "      <td>2</td>\n",
       "      <td>2017-06-20 08:15:18</td>\n",
       "      <td>2017-06-20 10:24:37</td>\n",
       "      <td>1</td>\n",
       "      <td>17.77</td>\n",
       "      <td>2</td>\n",
       "      <td>N</td>\n",
       "      <td>132</td>\n",
       "      <td>246</td>\n",
       "      <td>1</td>\n",
       "      <td>52.0</td>\n",
       "      <td>0.0</td>\n",
       "      <td>0.5</td>\n",
       "      <td>11.71</td>\n",
       "      <td>5.76</td>\n",
       "      <td>0.3</td>\n",
       "      <td>70.27</td>\n",
       "      <td>129.316667</td>\n",
       "      <td>132 246</td>\n",
       "      <td>18.515000</td>\n",
       "      <td>86.583333</td>\n",
       "      <td>tuesday</td>\n",
       "      <td>jun</td>\n",
       "      <td>1</td>\n",
       "    </tr>\n",
       "    <tr>\n",
       "      <th>2684305</th>\n",
       "      <td>2</td>\n",
       "      <td>2017-01-10 22:29:47</td>\n",
       "      <td>2017-01-10 23:06:46</td>\n",
       "      <td>1</td>\n",
       "      <td>18.57</td>\n",
       "      <td>2</td>\n",
       "      <td>N</td>\n",
       "      <td>132</td>\n",
       "      <td>48</td>\n",
       "      <td>1</td>\n",
       "      <td>52.0</td>\n",
       "      <td>0.0</td>\n",
       "      <td>0.5</td>\n",
       "      <td>13.20</td>\n",
       "      <td>0.00</td>\n",
       "      <td>0.3</td>\n",
       "      <td>66.00</td>\n",
       "      <td>36.983333</td>\n",
       "      <td>132 48</td>\n",
       "      <td>18.761905</td>\n",
       "      <td>61.604762</td>\n",
       "      <td>tuesday</td>\n",
       "      <td>jan</td>\n",
       "      <td>0</td>\n",
       "    </tr>\n",
       "    <tr>\n",
       "      <th>90860814</th>\n",
       "      <td>2</td>\n",
       "      <td>2017-10-27 21:50:00</td>\n",
       "      <td>2017-10-27 22:35:04</td>\n",
       "      <td>1</td>\n",
       "      <td>22.43</td>\n",
       "      <td>2</td>\n",
       "      <td>N</td>\n",
       "      <td>132</td>\n",
       "      <td>163</td>\n",
       "      <td>2</td>\n",
       "      <td>52.0</td>\n",
       "      <td>0.0</td>\n",
       "      <td>0.5</td>\n",
       "      <td>0.00</td>\n",
       "      <td>5.76</td>\n",
       "      <td>0.3</td>\n",
       "      <td>58.56</td>\n",
       "      <td>45.066667</td>\n",
       "      <td>132 163</td>\n",
       "      <td>19.229000</td>\n",
       "      <td>52.941667</td>\n",
       "      <td>friday</td>\n",
       "      <td>oct</td>\n",
       "      <td>0</td>\n",
       "    </tr>\n",
       "    <tr>\n",
       "      <th>106575186</th>\n",
       "      <td>1</td>\n",
       "      <td>2017-12-16 06:39:59</td>\n",
       "      <td>2017-12-16 07:07:59</td>\n",
       "      <td>2</td>\n",
       "      <td>17.80</td>\n",
       "      <td>2</td>\n",
       "      <td>N</td>\n",
       "      <td>75</td>\n",
       "      <td>132</td>\n",
       "      <td>1</td>\n",
       "      <td>52.0</td>\n",
       "      <td>0.0</td>\n",
       "      <td>0.5</td>\n",
       "      <td>6.00</td>\n",
       "      <td>5.76</td>\n",
       "      <td>0.3</td>\n",
       "      <td>64.56</td>\n",
       "      <td>28.000000</td>\n",
       "      <td>75 132</td>\n",
       "      <td>18.442500</td>\n",
       "      <td>36.204167</td>\n",
       "      <td>saturday</td>\n",
       "      <td>dec</td>\n",
       "      <td>0</td>\n",
       "    </tr>\n",
       "    <tr>\n",
       "      <th>110495611</th>\n",
       "      <td>2</td>\n",
       "      <td>2017-12-30 05:25:29</td>\n",
       "      <td>2017-12-30 06:01:29</td>\n",
       "      <td>6</td>\n",
       "      <td>18.23</td>\n",
       "      <td>2</td>\n",
       "      <td>N</td>\n",
       "      <td>68</td>\n",
       "      <td>132</td>\n",
       "      <td>2</td>\n",
       "      <td>52.0</td>\n",
       "      <td>0.0</td>\n",
       "      <td>0.5</td>\n",
       "      <td>0.00</td>\n",
       "      <td>0.00</td>\n",
       "      <td>0.3</td>\n",
       "      <td>52.80</td>\n",
       "      <td>36.000000</td>\n",
       "      <td>68 132</td>\n",
       "      <td>18.785000</td>\n",
       "      <td>63.737500</td>\n",
       "      <td>saturday</td>\n",
       "      <td>dec</td>\n",
       "      <td>0</td>\n",
       "    </tr>\n",
       "    <tr>\n",
       "      <th>87017503</th>\n",
       "      <td>1</td>\n",
       "      <td>2017-10-15 22:39:12</td>\n",
       "      <td>2017-10-15 23:14:22</td>\n",
       "      <td>1</td>\n",
       "      <td>21.80</td>\n",
       "      <td>2</td>\n",
       "      <td>N</td>\n",
       "      <td>132</td>\n",
       "      <td>261</td>\n",
       "      <td>2</td>\n",
       "      <td>52.0</td>\n",
       "      <td>0.0</td>\n",
       "      <td>0.5</td>\n",
       "      <td>0.00</td>\n",
       "      <td>0.00</td>\n",
       "      <td>0.3</td>\n",
       "      <td>52.80</td>\n",
       "      <td>35.166667</td>\n",
       "      <td>132 261</td>\n",
       "      <td>22.115000</td>\n",
       "      <td>51.493750</td>\n",
       "      <td>sunday</td>\n",
       "      <td>oct</td>\n",
       "      <td>0</td>\n",
       "    </tr>\n",
       "    <tr>\n",
       "      <th>12762608</th>\n",
       "      <td>2</td>\n",
       "      <td>2017-02-17 20:39:42</td>\n",
       "      <td>2017-02-17 21:13:29</td>\n",
       "      <td>1</td>\n",
       "      <td>19.57</td>\n",
       "      <td>2</td>\n",
       "      <td>N</td>\n",
       "      <td>132</td>\n",
       "      <td>140</td>\n",
       "      <td>1</td>\n",
       "      <td>52.0</td>\n",
       "      <td>0.0</td>\n",
       "      <td>0.5</td>\n",
       "      <td>11.67</td>\n",
       "      <td>5.54</td>\n",
       "      <td>0.3</td>\n",
       "      <td>70.01</td>\n",
       "      <td>33.783333</td>\n",
       "      <td>132 140</td>\n",
       "      <td>19.293333</td>\n",
       "      <td>36.791667</td>\n",
       "      <td>friday</td>\n",
       "      <td>feb</td>\n",
       "      <td>0</td>\n",
       "    </tr>\n",
       "    <tr>\n",
       "      <th>71264442</th>\n",
       "      <td>1</td>\n",
       "      <td>2017-08-23 18:23:26</td>\n",
       "      <td>2017-08-23 19:18:29</td>\n",
       "      <td>1</td>\n",
       "      <td>16.70</td>\n",
       "      <td>2</td>\n",
       "      <td>N</td>\n",
       "      <td>132</td>\n",
       "      <td>230</td>\n",
       "      <td>1</td>\n",
       "      <td>52.0</td>\n",
       "      <td>4.5</td>\n",
       "      <td>0.5</td>\n",
       "      <td>42.29</td>\n",
       "      <td>0.00</td>\n",
       "      <td>0.3</td>\n",
       "      <td>99.59</td>\n",
       "      <td>55.050000</td>\n",
       "      <td>132 230</td>\n",
       "      <td>18.571200</td>\n",
       "      <td>60.800000</td>\n",
       "      <td>wednesday</td>\n",
       "      <td>aug</td>\n",
       "      <td>1</td>\n",
       "    </tr>\n",
       "    <tr>\n",
       "      <th>11006300</th>\n",
       "      <td>2</td>\n",
       "      <td>2017-02-07 17:20:19</td>\n",
       "      <td>2017-02-07 17:34:41</td>\n",
       "      <td>1</td>\n",
       "      <td>1.09</td>\n",
       "      <td>2</td>\n",
       "      <td>N</td>\n",
       "      <td>170</td>\n",
       "      <td>48</td>\n",
       "      <td>2</td>\n",
       "      <td>52.0</td>\n",
       "      <td>4.5</td>\n",
       "      <td>0.5</td>\n",
       "      <td>0.00</td>\n",
       "      <td>5.54</td>\n",
       "      <td>0.3</td>\n",
       "      <td>62.84</td>\n",
       "      <td>14.366667</td>\n",
       "      <td>170 48</td>\n",
       "      <td>1.265789</td>\n",
       "      <td>14.135965</td>\n",
       "      <td>tuesday</td>\n",
       "      <td>feb</td>\n",
       "      <td>1</td>\n",
       "    </tr>\n",
       "    <tr>\n",
       "      <th>68882036</th>\n",
       "      <td>2</td>\n",
       "      <td>2017-08-14 23:01:15</td>\n",
       "      <td>2017-08-14 23:03:35</td>\n",
       "      <td>5</td>\n",
       "      <td>2.12</td>\n",
       "      <td>2</td>\n",
       "      <td>N</td>\n",
       "      <td>265</td>\n",
       "      <td>265</td>\n",
       "      <td>2</td>\n",
       "      <td>52.0</td>\n",
       "      <td>0.0</td>\n",
       "      <td>0.5</td>\n",
       "      <td>0.00</td>\n",
       "      <td>0.00</td>\n",
       "      <td>0.3</td>\n",
       "      <td>52.80</td>\n",
       "      <td>2.333333</td>\n",
       "      <td>265 265</td>\n",
       "      <td>0.753077</td>\n",
       "      <td>3.411538</td>\n",
       "      <td>monday</td>\n",
       "      <td>aug</td>\n",
       "      <td>0</td>\n",
       "    </tr>\n",
       "    <tr>\n",
       "      <th>74720333</th>\n",
       "      <td>1</td>\n",
       "      <td>2017-09-06 10:46:17</td>\n",
       "      <td>2017-09-06 11:44:41</td>\n",
       "      <td>1</td>\n",
       "      <td>19.10</td>\n",
       "      <td>2</td>\n",
       "      <td>N</td>\n",
       "      <td>239</td>\n",
       "      <td>132</td>\n",
       "      <td>1</td>\n",
       "      <td>52.0</td>\n",
       "      <td>0.0</td>\n",
       "      <td>0.5</td>\n",
       "      <td>15.80</td>\n",
       "      <td>0.00</td>\n",
       "      <td>0.3</td>\n",
       "      <td>68.60</td>\n",
       "      <td>58.400000</td>\n",
       "      <td>239 132</td>\n",
       "      <td>19.795000</td>\n",
       "      <td>50.562500</td>\n",
       "      <td>wednesday</td>\n",
       "      <td>sep</td>\n",
       "      <td>0</td>\n",
       "    </tr>\n",
       "    <tr>\n",
       "      <th>51937907</th>\n",
       "      <td>2</td>\n",
       "      <td>2017-06-19 06:23:13</td>\n",
       "      <td>2017-06-19 07:03:53</td>\n",
       "      <td>6</td>\n",
       "      <td>19.77</td>\n",
       "      <td>2</td>\n",
       "      <td>N</td>\n",
       "      <td>238</td>\n",
       "      <td>132</td>\n",
       "      <td>1</td>\n",
       "      <td>52.0</td>\n",
       "      <td>0.0</td>\n",
       "      <td>0.5</td>\n",
       "      <td>17.57</td>\n",
       "      <td>5.76</td>\n",
       "      <td>0.3</td>\n",
       "      <td>76.13</td>\n",
       "      <td>40.666667</td>\n",
       "      <td>238 132</td>\n",
       "      <td>19.470000</td>\n",
       "      <td>53.861111</td>\n",
       "      <td>monday</td>\n",
       "      <td>jun</td>\n",
       "      <td>1</td>\n",
       "    </tr>\n",
       "  </tbody>\n",
       "</table>\n",
       "</div>"
      ],
      "text/plain": [
       "           VendorID tpep_pickup_datetime tpep_dropoff_datetime   \n",
       "18600059          2  2017-03-05 19:15:30   2017-03-05 19:52:18  \\\n",
       "47959795          1  2017-06-03 14:24:57   2017-06-03 15:31:48   \n",
       "95729204          2  2017-11-11 20:16:16   2017-11-11 20:17:14   \n",
       "103404868         2  2017-12-06 23:37:08   2017-12-07 00:06:19   \n",
       "80479432          2  2017-09-24 23:45:45   2017-09-25 00:15:14   \n",
       "16226157          1  2017-02-28 18:30:05   2017-02-28 19:09:55   \n",
       "55253442          2  2017-06-05 12:51:58   2017-06-05 13:07:35   \n",
       "65900029          2  2017-08-03 22:47:14   2017-08-03 23:32:41   \n",
       "80904240          2  2017-09-26 13:48:26   2017-09-26 14:31:17   \n",
       "33706214          2  2017-04-23 21:34:48   2017-04-23 22:46:23   \n",
       "99259872          2  2017-11-22 21:31:32   2017-11-22 22:00:25   \n",
       "61050418          2  2017-07-18 13:29:06   2017-07-18 13:29:19   \n",
       "54444647          2  2017-06-26 13:39:12   2017-06-26 14:34:54   \n",
       "94424289          2  2017-11-07 22:15:00   2017-11-07 22:45:32   \n",
       "103094220         1  2017-12-06 05:19:50   2017-12-06 05:53:52   \n",
       "66115834          1  2017-08-04 17:53:34   2017-08-04 18:50:56   \n",
       "55934137          2  2017-06-09 09:31:25   2017-06-09 10:24:10   \n",
       "13731926          2  2017-02-21 06:11:03   2017-02-21 06:59:39   \n",
       "52277743          2  2017-06-20 08:15:18   2017-06-20 10:24:37   \n",
       "2684305           2  2017-01-10 22:29:47   2017-01-10 23:06:46   \n",
       "90860814          2  2017-10-27 21:50:00   2017-10-27 22:35:04   \n",
       "106575186         1  2017-12-16 06:39:59   2017-12-16 07:07:59   \n",
       "110495611         2  2017-12-30 05:25:29   2017-12-30 06:01:29   \n",
       "87017503          1  2017-10-15 22:39:12   2017-10-15 23:14:22   \n",
       "12762608          2  2017-02-17 20:39:42   2017-02-17 21:13:29   \n",
       "71264442          1  2017-08-23 18:23:26   2017-08-23 19:18:29   \n",
       "11006300          2  2017-02-07 17:20:19   2017-02-07 17:34:41   \n",
       "68882036          2  2017-08-14 23:01:15   2017-08-14 23:03:35   \n",
       "74720333          1  2017-09-06 10:46:17   2017-09-06 11:44:41   \n",
       "51937907          2  2017-06-19 06:23:13   2017-06-19 07:03:53   \n",
       "\n",
       "           passenger_count  trip_distance  RatecodeID store_and_fwd_flag   \n",
       "18600059                 2          18.90           2                  N  \\\n",
       "47959795                 1          18.00           2                  N   \n",
       "95729204                 1           0.23           2                  N   \n",
       "103404868                1          18.93           2                  N   \n",
       "80479432                 1          17.99           2                  N   \n",
       "16226157                 1          18.40           2                  N   \n",
       "55253442                 1           4.73           2                  N   \n",
       "65900029                 2          18.21           2                  N   \n",
       "80904240                 1          17.27           2                  N   \n",
       "33706214                 6          18.34           2                  N   \n",
       "99259872                 1          18.65           2                  N   \n",
       "61050418                 1           0.00           2                  N   \n",
       "54444647                 1          17.76           2                  N   \n",
       "94424289                 2          16.97           2                  N   \n",
       "103094220                1          20.80           2                  N   \n",
       "66115834                 1          21.60           2                  N   \n",
       "55934137                 2          18.81           2                  N   \n",
       "13731926                 5          16.94           2                  N   \n",
       "52277743                 1          17.77           2                  N   \n",
       "2684305                  1          18.57           2                  N   \n",
       "90860814                 1          22.43           2                  N   \n",
       "106575186                2          17.80           2                  N   \n",
       "110495611                6          18.23           2                  N   \n",
       "87017503                 1          21.80           2                  N   \n",
       "12762608                 1          19.57           2                  N   \n",
       "71264442                 1          16.70           2                  N   \n",
       "11006300                 1           1.09           2                  N   \n",
       "68882036                 5           2.12           2                  N   \n",
       "74720333                 1          19.10           2                  N   \n",
       "51937907                 6          19.77           2                  N   \n",
       "\n",
       "           PULocationID  DOLocationID  payment_type  fare_amount  extra   \n",
       "18600059            236           132             1         52.0    0.0  \\\n",
       "47959795            132           163             1         52.0    0.0   \n",
       "95729204            132           132             2         52.0    0.0   \n",
       "103404868           132            79             2         52.0    0.0   \n",
       "80479432            132           234             1         52.0    0.0   \n",
       "16226157            132            48             2         52.0    4.5   \n",
       "55253442            228            88             2         52.0    0.0   \n",
       "65900029            132            48             2         52.0    0.0   \n",
       "80904240            186           132             2         52.0    0.0   \n",
       "33706214            132           148             1         52.0    0.0   \n",
       "99259872            132           144             1         52.0    0.0   \n",
       "61050418            230           161             1         52.0    0.0   \n",
       "54444647            211           132             1         52.0    0.0   \n",
       "94424289            132           170             1         52.0    0.0   \n",
       "103094220           132           239             1         52.0    0.0   \n",
       "66115834            264           264             1         52.0    4.5   \n",
       "55934137            163           132             1         52.0    0.0   \n",
       "13731926            132           170             1         52.0    0.0   \n",
       "52277743            132           246             1         52.0    0.0   \n",
       "2684305             132            48             1         52.0    0.0   \n",
       "90860814            132           163             2         52.0    0.0   \n",
       "106575186            75           132             1         52.0    0.0   \n",
       "110495611            68           132             2         52.0    0.0   \n",
       "87017503            132           261             2         52.0    0.0   \n",
       "12762608            132           140             1         52.0    0.0   \n",
       "71264442            132           230             1         52.0    4.5   \n",
       "11006300            170            48             2         52.0    4.5   \n",
       "68882036            265           265             2         52.0    0.0   \n",
       "74720333            239           132             1         52.0    0.0   \n",
       "51937907            238           132             1         52.0    0.0   \n",
       "\n",
       "           mta_tax  tip_amount  tolls_amount  improvement_surcharge   \n",
       "18600059       0.5       14.58          5.54                    0.3  \\\n",
       "47959795       0.5        0.00          0.00                    0.3   \n",
       "95729204       0.5        0.00          0.00                    0.3   \n",
       "103404868      0.5        0.00          0.00                    0.3   \n",
       "80479432       0.5       14.64          5.76                    0.3   \n",
       "16226157       0.5        0.00          5.54                    0.3   \n",
       "55253442       0.5        0.00          5.76                    0.3   \n",
       "65900029       0.5        0.00          5.76                    0.3   \n",
       "80904240       0.5        0.00          5.76                    0.3   \n",
       "33706214       0.5        5.00          0.00                    0.3   \n",
       "99259872       0.5       10.56          0.00                    0.3   \n",
       "61050418       0.5       11.71          5.76                    0.3   \n",
       "54444647       0.5       11.71          5.76                    0.3   \n",
       "94424289       0.5       11.71          5.76                    0.3   \n",
       "103094220      0.5        5.85          5.76                    0.3   \n",
       "66115834       0.5       12.60          5.76                    0.3   \n",
       "55934137       0.5       13.20          0.00                    0.3   \n",
       "13731926       0.5        2.00          5.54                    0.3   \n",
       "52277743       0.5       11.71          5.76                    0.3   \n",
       "2684305        0.5       13.20          0.00                    0.3   \n",
       "90860814       0.5        0.00          5.76                    0.3   \n",
       "106575186      0.5        6.00          5.76                    0.3   \n",
       "110495611      0.5        0.00          0.00                    0.3   \n",
       "87017503       0.5        0.00          0.00                    0.3   \n",
       "12762608       0.5       11.67          5.54                    0.3   \n",
       "71264442       0.5       42.29          0.00                    0.3   \n",
       "11006300       0.5        0.00          5.54                    0.3   \n",
       "68882036       0.5        0.00          0.00                    0.3   \n",
       "74720333       0.5       15.80          0.00                    0.3   \n",
       "51937907       0.5       17.57          5.76                    0.3   \n",
       "\n",
       "           total_amount    duration pickup_dropoff  mean_distance   \n",
       "18600059          72.92   36.800000        236 132      19.211667  \\\n",
       "47959795          52.80   66.850000        132 163      19.229000   \n",
       "95729204          52.80    0.966667        132 132       2.255862   \n",
       "103404868         52.80   29.183333         132 79      19.431667   \n",
       "80479432          73.20   29.483333        132 234      17.654000   \n",
       "16226157          62.84   39.833333         132 48      18.761905   \n",
       "55253442          58.56   15.616667         228 88       4.730000   \n",
       "65900029          58.56   45.450000         132 48      18.761905   \n",
       "80904240          58.56   42.850000        186 132      17.096000   \n",
       "33706214          57.80   71.583333        132 148      17.994286   \n",
       "99259872          63.36   28.883333        132 144      18.537500   \n",
       "61050418          70.27    0.216667        230 161       0.685484   \n",
       "54444647          70.27   55.700000        211 132      16.580000   \n",
       "94424289          70.27   30.533333        132 170      17.203000   \n",
       "103094220         64.41   34.033333        132 239      20.901250   \n",
       "66115834          75.66   57.366667        264 264       3.191516   \n",
       "55934137          66.00   52.750000        163 132      17.275833   \n",
       "13731926          60.34   48.600000        132 170      17.203000   \n",
       "52277743          70.27  129.316667        132 246      18.515000   \n",
       "2684305           66.00   36.983333         132 48      18.761905   \n",
       "90860814          58.56   45.066667        132 163      19.229000   \n",
       "106575186         64.56   28.000000         75 132      18.442500   \n",
       "110495611         52.80   36.000000         68 132      18.785000   \n",
       "87017503          52.80   35.166667        132 261      22.115000   \n",
       "12762608          70.01   33.783333        132 140      19.293333   \n",
       "71264442          99.59   55.050000        132 230      18.571200   \n",
       "11006300          62.84   14.366667         170 48       1.265789   \n",
       "68882036          52.80    2.333333        265 265       0.753077   \n",
       "74720333          68.60   58.400000        239 132      19.795000   \n",
       "51937907          76.13   40.666667        238 132      19.470000   \n",
       "\n",
       "           mean_duration        day month  rush_hour  \n",
       "18600059      265.147222     sunday   mar          0  \n",
       "47959795       52.941667   saturday   jun          0  \n",
       "95729204        3.021839   saturday   nov          0  \n",
       "103404868      47.275000  wednesday   dec          0  \n",
       "80479432       49.833333     sunday   sep          0  \n",
       "16226157       61.604762    tuesday   feb          1  \n",
       "55253442       15.616667     monday   jun          0  \n",
       "65900029       61.604762   thursday   aug          0  \n",
       "80904240       42.920000    tuesday   sep          0  \n",
       "33706214       46.340476     sunday   apr          0  \n",
       "99259872       37.000000  wednesday   nov          0  \n",
       "61050418        7.965591    tuesday   jul          0  \n",
       "54444647       61.691667     monday   jun          0  \n",
       "94424289       37.113333    tuesday   nov          0  \n",
       "103094220      44.862500  wednesday   dec          0  \n",
       "66115834       25.329964     friday   aug          1  \n",
       "55934137      164.759722     friday   jun          1  \n",
       "13731926       37.113333    tuesday   feb          1  \n",
       "52277743       86.583333    tuesday   jun          1  \n",
       "2684305        61.604762    tuesday   jan          0  \n",
       "90860814       52.941667     friday   oct          0  \n",
       "106575186      36.204167   saturday   dec          0  \n",
       "110495611      63.737500   saturday   dec          0  \n",
       "87017503       51.493750     sunday   oct          0  \n",
       "12762608       36.791667     friday   feb          0  \n",
       "71264442       60.800000  wednesday   aug          1  \n",
       "11006300       14.135965    tuesday   feb          1  \n",
       "68882036        3.411538     monday   aug          0  \n",
       "74720333       50.562500  wednesday   sep          0  \n",
       "51937907       53.861111     monday   jun          1  "
      ]
     },
     "execution_count": 60,
     "metadata": {},
     "output_type": "execute_result"
    }
   ],
   "source": [
    "# Display the first 30 trips\n",
    "pd.set_option('display.max_columns', None)\n",
    "df[df['fare_amount']==52].head(30)"
   ]
  },
  {
   "cell_type": "markdown",
   "metadata": {},
   "source": [
    "`Note` : We notice that all of these trips have a fare amount of 52 dollars with a majority that begins or ends at location ID 132, RatecodeID is 2 for all 30 trips.\n",
    "There is no readily apparent reason for this, they seem to occur at random times of the day, on different days with both vendors.\n",
    "The data dictionary indicates that RatecodeID 2 is for a \"JFK\" trip, which stands for John F. Kennedy International Airport. a quick online search shows that the taxi fare from JFK to Manhattan is a flat rate today of $70, but when the data was collected, it was $52 dollars when the data was collected. This is likely the reason for the horizontal line in the scatterplot.\n",
    "\n",
    "The conclusion of this analysis is that the data is correct and that the model should be trained on the data as-is."
   ]
  },
  {
   "cell_type": "markdown",
   "metadata": {},
   "source": [
    "### Task 5. Isolate modeling variables\n",
    "\n",
    "We drop features that are redundant, irrelevant, or that will not be available in a deployed environment."
   ]
  },
  {
   "cell_type": "code",
   "execution_count": 64,
   "metadata": {},
   "outputs": [
    {
     "name": "stdout",
     "output_type": "stream",
     "text": [
      "<class 'pandas.core.frame.DataFrame'>\n",
      "Index: 22699 entries, 24870114 to 17208911\n",
      "Data columns (total 24 columns):\n",
      " #   Column                 Non-Null Count  Dtype         \n",
      "---  ------                 --------------  -----         \n",
      " 0   VendorID               22699 non-null  int64         \n",
      " 1   tpep_pickup_datetime   22699 non-null  datetime64[ns]\n",
      " 2   tpep_dropoff_datetime  22699 non-null  datetime64[ns]\n",
      " 3   passenger_count        22699 non-null  int64         \n",
      " 4   trip_distance          22699 non-null  float64       \n",
      " 5   RatecodeID             22699 non-null  int64         \n",
      " 6   store_and_fwd_flag     22699 non-null  object        \n",
      " 7   PULocationID           22699 non-null  int64         \n",
      " 8   DOLocationID           22699 non-null  int64         \n",
      " 9   payment_type           22699 non-null  int64         \n",
      " 10  fare_amount            22699 non-null  float64       \n",
      " 11  extra                  22699 non-null  float64       \n",
      " 12  mta_tax                22699 non-null  float64       \n",
      " 13  tip_amount             22699 non-null  float64       \n",
      " 14  tolls_amount           22699 non-null  float64       \n",
      " 15  improvement_surcharge  22699 non-null  float64       \n",
      " 16  total_amount           22699 non-null  float64       \n",
      " 17  duration               22699 non-null  float64       \n",
      " 18  pickup_dropoff         22699 non-null  object        \n",
      " 19  mean_distance          22699 non-null  float64       \n",
      " 20  mean_duration          22699 non-null  float64       \n",
      " 21  day                    22699 non-null  object        \n",
      " 22  month                  22699 non-null  object        \n",
      " 23  rush_hour              22699 non-null  int64         \n",
      "dtypes: datetime64[ns](2), float64(11), int64(7), object(4)\n",
      "memory usage: 4.3+ MB\n"
     ]
    }
   ],
   "source": [
    "df.info()"
   ]
  },
  {
   "cell_type": "code",
   "execution_count": 66,
   "metadata": {},
   "outputs": [
    {
     "name": "stdout",
     "output_type": "stream",
     "text": [
      "<class 'pandas.core.frame.DataFrame'>\n",
      "Index: 22699 entries, 24870114 to 17208911\n",
      "Data columns (total 6 columns):\n",
      " #   Column           Non-Null Count  Dtype  \n",
      "---  ------           --------------  -----  \n",
      " 0   VendorID         22699 non-null  int64  \n",
      " 1   passenger_count  22699 non-null  int64  \n",
      " 2   fare_amount      22699 non-null  float64\n",
      " 3   mean_distance    22699 non-null  float64\n",
      " 4   mean_duration    22699 non-null  float64\n",
      " 5   rush_hour        22699 non-null  int64  \n",
      "dtypes: float64(3), int64(3)\n",
      "memory usage: 1.2 MB\n"
     ]
    }
   ],
   "source": [
    "df2 = df.copy()\n",
    "\n",
    "df2 = df2.drop(['tpep_dropoff_datetime', 'tpep_pickup_datetime',\n",
    "               'trip_distance', 'RatecodeID', 'store_and_fwd_flag', 'PULocationID', 'DOLocationID',\n",
    "               'payment_type', 'extra', 'mta_tax', 'tip_amount', 'tolls_amount', 'improvement_surcharge',\n",
    "               'total_amount', 'tpep_dropoff_datetime', 'tpep_pickup_datetime', 'duration',\n",
    "               'pickup_dropoff', 'day', 'month'\n",
    "               ], axis=1)\n",
    "df2.info()"
   ]
  },
  {
   "cell_type": "markdown",
   "metadata": {},
   "source": [
    "### Task 6. Pair plot\n",
    "\n",
    "Create a pairplot to visualize pairwise relationships between `fare_amount`, `mean_duration`, and `mean_distance`."
   ]
  },
  {
   "cell_type": "code",
   "execution_count": 84,
   "metadata": {},
   "outputs": [],
   "source": [
    "# Create a pairplot in df2 for fare_amount, mean_distance, mean_duration\n",
    "sns.pairplot(df2[['fare_amount', 'mean_duration', 'mean_distance']],\n",
    "             plot_kws={'alpha':0.4, 'size':5},\n",
    "             );"
   ]
  },
  {
   "attachments": {
    "image.png": {
     "image/png": "[encoded data removed]"
    }
   },
   "cell_type": "markdown",
   "metadata": {},
   "source": [
    "![image.png](attachment:image.png)"
   ]
  },
  {
   "cell_type": "markdown",
   "metadata": {},
   "source": [
    "`Note`: These variables all show linear correlation with each other. further investigate required."
   ]
  },
  {
   "cell_type": "markdown",
   "metadata": {},
   "source": [
    "### Task 7. Identify correlations"
   ]
  },
  {
   "cell_type": "markdown",
   "metadata": {},
   "source": [
    "Next, code a correlation matrix to help determine most correlated variables."
   ]
  },
  {
   "cell_type": "code",
   "execution_count": 85,
   "metadata": {},
   "outputs": [
    {
     "data": {
      "text/html": [
       "<div>\n",
       "<style scoped>\n",
       "    .dataframe tbody tr th:only-of-type {\n",
       "        vertical-align: middle;\n",
       "    }\n",
       "\n",
       "    .dataframe tbody tr th {\n",
       "        vertical-align: top;\n",
       "    }\n",
       "\n",
       "    .dataframe thead th {\n",
       "        text-align: right;\n",
       "    }\n",
       "</style>\n",
       "<table border=\"1\" class=\"dataframe\">\n",
       "  <thead>\n",
       "    <tr style=\"text-align: right;\">\n",
       "      <th></th>\n",
       "      <th>VendorID</th>\n",
       "      <th>passenger_count</th>\n",
       "      <th>fare_amount</th>\n",
       "      <th>mean_distance</th>\n",
       "      <th>mean_duration</th>\n",
       "      <th>rush_hour</th>\n",
       "    </tr>\n",
       "  </thead>\n",
       "  <tbody>\n",
       "    <tr>\n",
       "      <th>VendorID</th>\n",
       "      <td>1.000000</td>\n",
       "      <td>0.266463</td>\n",
       "      <td>-0.000113</td>\n",
       "      <td>0.004741</td>\n",
       "      <td>0.005384</td>\n",
       "      <td>-0.002874</td>\n",
       "    </tr>\n",
       "    <tr>\n",
       "      <th>passenger_count</th>\n",
       "      <td>0.266463</td>\n",
       "      <td>1.000000</td>\n",
       "      <td>0.010455</td>\n",
       "      <td>0.013428</td>\n",
       "      <td>0.007658</td>\n",
       "      <td>-0.022035</td>\n",
       "    </tr>\n",
       "    <tr>\n",
       "      <th>fare_amount</th>\n",
       "      <td>-0.000113</td>\n",
       "      <td>0.010455</td>\n",
       "      <td>1.000000</td>\n",
       "      <td>0.741845</td>\n",
       "      <td>0.304689</td>\n",
       "      <td>-0.016683</td>\n",
       "    </tr>\n",
       "    <tr>\n",
       "      <th>mean_distance</th>\n",
       "      <td>0.004741</td>\n",
       "      <td>0.013428</td>\n",
       "      <td>0.741845</td>\n",
       "      <td>1.000000</td>\n",
       "      <td>0.385917</td>\n",
       "      <td>-0.039725</td>\n",
       "    </tr>\n",
       "    <tr>\n",
       "      <th>mean_duration</th>\n",
       "      <td>0.005384</td>\n",
       "      <td>0.007658</td>\n",
       "      <td>0.304689</td>\n",
       "      <td>0.385917</td>\n",
       "      <td>1.000000</td>\n",
       "      <td>-0.013415</td>\n",
       "    </tr>\n",
       "    <tr>\n",
       "      <th>rush_hour</th>\n",
       "      <td>-0.002874</td>\n",
       "      <td>-0.022035</td>\n",
       "      <td>-0.016683</td>\n",
       "      <td>-0.039725</td>\n",
       "      <td>-0.013415</td>\n",
       "      <td>1.000000</td>\n",
       "    </tr>\n",
       "  </tbody>\n",
       "</table>\n",
       "</div>"
      ],
      "text/plain": [
       "                 VendorID  passenger_count  fare_amount  mean_distance   \n",
       "VendorID         1.000000         0.266463    -0.000113       0.004741  \\\n",
       "passenger_count  0.266463         1.000000     0.010455       0.013428   \n",
       "fare_amount     -0.000113         0.010455     1.000000       0.741845   \n",
       "mean_distance    0.004741         0.013428     0.741845       1.000000   \n",
       "mean_duration    0.005384         0.007658     0.304689       0.385917   \n",
       "rush_hour       -0.002874        -0.022035    -0.016683      -0.039725   \n",
       "\n",
       "                 mean_duration  rush_hour  \n",
       "VendorID              0.005384  -0.002874  \n",
       "passenger_count       0.007658  -0.022035  \n",
       "fare_amount           0.304689  -0.016683  \n",
       "mean_distance         0.385917  -0.039725  \n",
       "mean_duration         1.000000  -0.013415  \n",
       "rush_hour            -0.013415   1.000000  "
      ]
     },
     "execution_count": 85,
     "metadata": {},
     "output_type": "execute_result"
    }
   ],
   "source": [
    "# Correlation matrix to help determine most correlated variables\n",
    "df2.corr(method='pearson')"
   ]
  },
  {
   "cell_type": "markdown",
   "metadata": {},
   "source": [
    "Visualize a correlation heatmap of the data."
   ]
  },
  {
   "cell_type": "code",
   "execution_count": 86,
   "metadata": {},
   "outputs": [
    {
     "data": {
      "image/png": "[encoded data removed]",
      "text/plain": [
       "<Figure size 1000x800 with 2 Axes>"
      ]
     },
     "metadata": {},
     "output_type": "display_data"
    }
   ],
   "source": [
    "# Create correlation heatmap\n",
    "plt.figure(figsize=(10, 8))\n",
    "sns.heatmap(df2.corr(method='pearson'), annot=True, cmap='coolwarm')\n",
    "plt.title('Correlation heatmap',\n",
    "          fontsize=16)\n",
    "plt.show()"
   ]
  },
  {
   "cell_type": "markdown",
   "metadata": {},
   "source": [
    "mean_distance is highly correlated with the target variable of fare_amount, with a pearson of 0.74.\n",
    "mean_duration is slightly correlated with the target variable of fare_amount, with a pearson of 0.3.\n",
    "\n",
    "`Note` : This model will predict fare_amount, which will be used as a predictor variable in machine learning models. therefore, we will use both variables even though they are correlated with each other with a pearson of 0.39."
   ]
  },
  {
   "cell_type": "markdown",
   "metadata": {
    "id": "lgPul2DiY6T4"
   },
   "source": [
    "## PACE: **Construct**\n",
    "\n",
    "After analysis and deriving variables with close relationships, it is time to begin constructing the model."
   ]
  },
  {
   "cell_type": "markdown",
   "metadata": {
    "id": "P_QYzJfVUrIc"
   },
   "source": [
    "### Task 8a. Split data into outcome variable and features"
   ]
  },
  {
   "cell_type": "markdown",
   "metadata": {},
   "source": [
    "Set your X and y variables. X represents the features and y represents the outcome (target) variable."
   ]
  },
  {
   "cell_type": "code",
   "execution_count": 89,
   "metadata": {},
   "outputs": [
    {
     "data": {
      "text/html": [
       "<div>\n",
       "<style scoped>\n",
       "    .dataframe tbody tr th:only-of-type {\n",
       "        vertical-align: middle;\n",
       "    }\n",
       "\n",
       "    .dataframe tbody tr th {\n",
       "        vertical-align: top;\n",
       "    }\n",
       "\n",
       "    .dataframe thead th {\n",
       "        text-align: right;\n",
       "    }\n",
       "</style>\n",
       "<table border=\"1\" class=\"dataframe\">\n",
       "  <thead>\n",
       "    <tr style=\"text-align: right;\">\n",
       "      <th></th>\n",
       "      <th>VendorID</th>\n",
       "      <th>passenger_count</th>\n",
       "      <th>mean_distance</th>\n",
       "      <th>mean_duration</th>\n",
       "      <th>rush_hour</th>\n",
       "    </tr>\n",
       "  </thead>\n",
       "  <tbody>\n",
       "    <tr>\n",
       "      <th>24870114</th>\n",
       "      <td>2</td>\n",
       "      <td>6</td>\n",
       "      <td>3.521667</td>\n",
       "      <td>22.847222</td>\n",
       "      <td>0</td>\n",
       "    </tr>\n",
       "    <tr>\n",
       "      <th>35634249</th>\n",
       "      <td>1</td>\n",
       "      <td>1</td>\n",
       "      <td>3.108889</td>\n",
       "      <td>24.470370</td>\n",
       "      <td>0</td>\n",
       "    </tr>\n",
       "    <tr>\n",
       "      <th>106203690</th>\n",
       "      <td>1</td>\n",
       "      <td>1</td>\n",
       "      <td>0.881429</td>\n",
       "      <td>7.250000</td>\n",
       "      <td>1</td>\n",
       "    </tr>\n",
       "    <tr>\n",
       "      <th>38942136</th>\n",
       "      <td>2</td>\n",
       "      <td>1</td>\n",
       "      <td>3.700000</td>\n",
       "      <td>30.250000</td>\n",
       "      <td>0</td>\n",
       "    </tr>\n",
       "    <tr>\n",
       "      <th>30841670</th>\n",
       "      <td>2</td>\n",
       "      <td>1</td>\n",
       "      <td>4.435000</td>\n",
       "      <td>14.616667</td>\n",
       "      <td>0</td>\n",
       "    </tr>\n",
       "  </tbody>\n",
       "</table>\n",
       "</div>"
      ],
      "text/plain": [
       "           VendorID  passenger_count  mean_distance  mean_duration  rush_hour\n",
       "24870114          2                6       3.521667      22.847222          0\n",
       "35634249          1                1       3.108889      24.470370          0\n",
       "106203690         1                1       0.881429       7.250000          1\n",
       "38942136          2                1       3.700000      30.250000          0\n",
       "30841670          2                1       4.435000      14.616667          0"
      ]
     },
     "execution_count": 89,
     "metadata": {},
     "output_type": "execute_result"
    }
   ],
   "source": [
    "# Remove the target column 'fare_amount' from the features\n",
    "X = df2.drop(columns=['fare_amount'])\n",
    "\n",
    "# Set y variable\n",
    "y = df2['fare_amount']\n",
    "\n",
    "# Display first few rows\n",
    "X.head()"
   ]
  },
  {
   "cell_type": "markdown",
   "metadata": {
    "id": "o3ArC_5xa7Oi"
   },
   "source": [
    "### Task 8b. Pre-process data\n"
   ]
  },
  {
   "cell_type": "markdown",
   "metadata": {
    "id": "PdfTaopCcbTj"
   },
   "source": [
    "Dummy encode categorical variables"
   ]
  },
  {
   "cell_type": "code",
   "execution_count": 90,
   "metadata": {
    "id": "4Y3T2poF28fP"
   },
   "outputs": [
    {
     "data": {
      "text/html": [
       "<div>\n",
       "<style scoped>\n",
       "    .dataframe tbody tr th:only-of-type {\n",
       "        vertical-align: middle;\n",
       "    }\n",
       "\n",
       "    .dataframe tbody tr th {\n",
       "        vertical-align: top;\n",
       "    }\n",
       "\n",
       "    .dataframe thead th {\n",
       "        text-align: right;\n",
       "    }\n",
       "</style>\n",
       "<table border=\"1\" class=\"dataframe\">\n",
       "  <thead>\n",
       "    <tr style=\"text-align: right;\">\n",
       "      <th></th>\n",
       "      <th>passenger_count</th>\n",
       "      <th>mean_distance</th>\n",
       "      <th>mean_duration</th>\n",
       "      <th>rush_hour</th>\n",
       "      <th>VendorID_2</th>\n",
       "    </tr>\n",
       "  </thead>\n",
       "  <tbody>\n",
       "    <tr>\n",
       "      <th>24870114</th>\n",
       "      <td>6</td>\n",
       "      <td>3.521667</td>\n",
       "      <td>22.847222</td>\n",
       "      <td>0</td>\n",
       "      <td>True</td>\n",
       "    </tr>\n",
       "    <tr>\n",
       "      <th>35634249</th>\n",
       "      <td>1</td>\n",
       "      <td>3.108889</td>\n",
       "      <td>24.470370</td>\n",
       "      <td>0</td>\n",
       "      <td>False</td>\n",
       "    </tr>\n",
       "    <tr>\n",
       "      <th>106203690</th>\n",
       "      <td>1</td>\n",
       "      <td>0.881429</td>\n",
       "      <td>7.250000</td>\n",
       "      <td>1</td>\n",
       "      <td>False</td>\n",
       "    </tr>\n",
       "    <tr>\n",
       "      <th>38942136</th>\n",
       "      <td>1</td>\n",
       "      <td>3.700000</td>\n",
       "      <td>30.250000</td>\n",
       "      <td>0</td>\n",
       "      <td>True</td>\n",
       "    </tr>\n",
       "    <tr>\n",
       "      <th>30841670</th>\n",
       "      <td>1</td>\n",
       "      <td>4.435000</td>\n",
       "      <td>14.616667</td>\n",
       "      <td>0</td>\n",
       "      <td>True</td>\n",
       "    </tr>\n",
       "  </tbody>\n",
       "</table>\n",
       "</div>"
      ],
      "text/plain": [
       "           passenger_count  mean_distance  mean_duration  rush_hour   \n",
       "24870114                 6       3.521667      22.847222          0  \\\n",
       "35634249                 1       3.108889      24.470370          0   \n",
       "106203690                1       0.881429       7.250000          1   \n",
       "38942136                 1       3.700000      30.250000          0   \n",
       "30841670                 1       4.435000      14.616667          0   \n",
       "\n",
       "           VendorID_2  \n",
       "24870114         True  \n",
       "35634249        False  \n",
       "106203690       False  \n",
       "38942136         True  \n",
       "30841670         True  "
      ]
     },
     "execution_count": 90,
     "metadata": {},
     "output_type": "execute_result"
    }
   ],
   "source": [
    "# Convert VendorID to string\n",
    "X['VendorID'] = X['VendorID'].astype(str)\n",
    "\n",
    "# Get dummies\n",
    "X = pd.get_dummies(X, drop_first=True)\n",
    "X.head()"
   ]
  },
  {
   "cell_type": "markdown",
   "metadata": {},
   "source": [
    "### Split data into training and test sets"
   ]
  },
  {
   "cell_type": "markdown",
   "metadata": {},
   "source": [
    "Create training and testing sets. The test set should contain 20% of the total samples. Set `random_state=0`."
   ]
  },
  {
   "cell_type": "code",
   "execution_count": 91,
   "metadata": {
    "id": "A2BNUvacwaZY"
   },
   "outputs": [],
   "source": [
    "# Create training and testing sets\n",
    "X_train, X_test, y_train, y_test = train_test_split(X, y, test_size=0.2, random_state=0)"
   ]
  },
  {
   "cell_type": "markdown",
   "metadata": {
    "id": "iDYyjWssbnBG"
   },
   "source": [
    "### Standardize the data\n",
    "\n",
    "Use `StandardScaler()`, `fit()`, and `transform()` to standardize the `X_train` variables. Assign the results to a variable called `X_train_scaled`."
   ]
  },
  {
   "cell_type": "code",
   "execution_count": 92,
   "metadata": {},
   "outputs": [
    {
     "name": "stdout",
     "output_type": "stream",
     "text": [
      "X_train_scaled: [[-0.50301524  0.8694684  -0.03115262 -0.64893329  0.89286563]\n",
      " [-0.50301524 -0.60011281 -0.39523923  1.54099045  0.89286563]\n",
      " [ 0.27331093 -0.47829156 -0.34307963 -0.64893329 -1.11998936]\n",
      " ...\n",
      " [-0.50301524 -0.45121122 -0.3871602  -0.64893329 -1.11998936]\n",
      " [-0.50301524 -0.58944763 -0.46149795  1.54099045 -1.11998936]\n",
      " [ 1.82596329  0.83673851  0.36686348 -0.64893329  0.89286563]]\n"
     ]
    }
   ],
   "source": [
    "# Standardize the X variables\n",
    "scaler = StandardScaler().fit(X_train)\n",
    "X_train_scaled = scaler.transform(X_train)\n",
    "X_test_scaled = scaler.transform(X_test)\n",
    "print('X_train_scaled:', X_train_scaled)"
   ]
  },
  {
   "cell_type": "markdown",
   "metadata": {
    "id": "wk0rjKeO3JLv"
   },
   "source": [
    "### Fit the model\n",
    "\n",
    "Instantiate your model and fit it to the training data."
   ]
  },
  {
   "cell_type": "code",
   "execution_count": 93,
   "metadata": {
    "id": "SClNm5hWotj6"
   },
   "outputs": [
    {
     "data": {
      "text/html": [
       "<style>#sk-container-id-1 {color: black;background-color: white;}#sk-container-id-1 pre{padding: 0;}#sk-container-id-1 div.sk-toggleable {background-color: white;}#sk-container-id-1 label.sk-toggleable__label {cursor: pointer;display: block;width: 100%;margin-bottom: 0;padding: 0.3em;box-sizing: border-box;text-align: center;}#sk-container-id-1 label.sk-toggleable__label-arrow:before {content: \"▸\";float: left;margin-right: 0.25em;color: #696969;}#sk-container-id-1 label.sk-toggleable__label-arrow:hover:before {color: black;}#sk-container-id-1 div.sk-estimator:hover label.sk-toggleable__label-arrow:before {color: black;}#sk-container-id-1 div.sk-toggleable__content {max-height: 0;max-width: 0;overflow: hidden;text-align: left;background-color: #f0f8ff;}#sk-container-id-1 div.sk-toggleable__content pre {margin: 0.2em;color: black;border-radius: 0.25em;background-color: #f0f8ff;}#sk-container-id-1 input.sk-toggleable__control:checked~div.sk-toggleable__content {max-height: 200px;max-width: 100%;overflow: auto;}#sk-container-id-1 input.sk-toggleable__control:checked~label.sk-toggleable__label-arrow:before {content: \"▾\";}#sk-container-id-1 div.sk-estimator input.sk-toggleable__control:checked~label.sk-toggleable__label {background-color: #d4ebff;}#sk-container-id-1 div.sk-label input.sk-toggleable__control:checked~label.sk-toggleable__label {background-color: #d4ebff;}#sk-container-id-1 input.sk-hidden--visually {border: 0;clip: rect(1px 1px 1px 1px);clip: rect(1px, 1px, 1px, 1px);height: 1px;margin: -1px;overflow: hidden;padding: 0;position: absolute;width: 1px;}#sk-container-id-1 div.sk-estimator {font-family: monospace;background-color: #f0f8ff;border: 1px dotted black;border-radius: 0.25em;box-sizing: border-box;margin-bottom: 0.5em;}#sk-container-id-1 div.sk-estimator:hover {background-color: #d4ebff;}#sk-container-id-1 div.sk-parallel-item::after {content: \"\";width: 100%;border-bottom: 1px solid gray;flex-grow: 1;}#sk-container-id-1 div.sk-label:hover label.sk-toggleable__label {background-color: #d4ebff;}#sk-container-id-1 div.sk-serial::before {content: \"\";position: absolute;border-left: 1px solid gray;box-sizing: border-box;top: 0;bottom: 0;left: 50%;z-index: 0;}#sk-container-id-1 div.sk-serial {display: flex;flex-direction: column;align-items: center;background-color: white;padding-right: 0.2em;padding-left: 0.2em;position: relative;}#sk-container-id-1 div.sk-item {position: relative;z-index: 1;}#sk-container-id-1 div.sk-parallel {display: flex;align-items: stretch;justify-content: center;background-color: white;position: relative;}#sk-container-id-1 div.sk-item::before, #sk-container-id-1 div.sk-parallel-item::before {content: \"\";position: absolute;border-left: 1px solid gray;box-sizing: border-box;top: 0;bottom: 0;left: 50%;z-index: -1;}#sk-container-id-1 div.sk-parallel-item {display: flex;flex-direction: column;z-index: 1;position: relative;background-color: white;}#sk-container-id-1 div.sk-parallel-item:first-child::after {align-self: flex-end;width: 50%;}#sk-container-id-1 div.sk-parallel-item:last-child::after {align-self: flex-start;width: 50%;}#sk-container-id-1 div.sk-parallel-item:only-child::after {width: 0;}#sk-container-id-1 div.sk-dashed-wrapped {border: 1px dashed gray;margin: 0 0.4em 0.5em 0.4em;box-sizing: border-box;padding-bottom: 0.4em;background-color: white;}#sk-container-id-1 div.sk-label label {font-family: monospace;font-weight: bold;display: inline-block;line-height: 1.2em;}#sk-container-id-1 div.sk-label-container {text-align: center;}#sk-container-id-1 div.sk-container {/* jupyter's `normalize.less` sets `[hidden] { display: none; }` but bootstrap.min.css set `[hidden] { display: none !important; }` so we also need the `!important` here to be able to override the default hidden behavior on the sphinx rendered scikit-learn.org. See: https://github.com/scikit-learn/scikit-learn/issues/21755 */display: inline-block !important;position: relative;}#sk-container-id-1 div.sk-text-repr-fallback {display: none;}</style><div id=\"sk-container-id-1\" class=\"sk-top-container\"><div class=\"sk-text-repr-fallback\"><pre>LinearRegression()</pre><b>In a Jupyter environment, please rerun this cell to show the HTML representation or trust the notebook. <br />On GitHub, the HTML representation is unable to render, please try loading this page with nbviewer.org.</b></div><div class=\"sk-container\" hidden><div class=\"sk-item\"><div class=\"sk-estimator sk-toggleable\"><input class=\"sk-toggleable__control sk-hidden--visually\" id=\"sk-estimator-id-1\" type=\"checkbox\" checked><label for=\"sk-estimator-id-1\" class=\"sk-toggleable__label sk-toggleable__label-arrow\">LinearRegression</label><div class=\"sk-toggleable__content\"><pre>LinearRegression()</pre></div></div></div></div></div>"
      ],
      "text/plain": [
       "LinearRegression()"
      ]
     },
     "execution_count": 93,
     "metadata": {},
     "output_type": "execute_result"
    }
   ],
   "source": [
    "# Fit your model to the training data\n",
    "lr=LinearRegression()\n",
    "lr.fit(X_train_scaled, y_train)"
   ]
  },
  {
   "cell_type": "markdown",
   "metadata": {
    "id": "HMj6QkK1cLmS"
   },
   "source": [
    "### Task 8c. Evaluate model"
   ]
  },
  {
   "cell_type": "markdown",
   "metadata": {
    "id": "AromLx7t5hjt"
   },
   "source": [
    "### Train data\n",
    "\n",
    "Let's evaluate the model performance by calculating the residual sum of squares and the explained variance score (R^2). Calculate the Mean Absolute Error, Mean Squared Error, and the Root Mean Squared Error."
   ]
  },
  {
   "cell_type": "code",
   "execution_count": 95,
   "metadata": {
    "id": "33rE1x9e3U6t"
   },
   "outputs": [
    {
     "name": "stdout",
     "output_type": "stream",
     "text": [
      "coefficient of determination: 0.5079996278862282\n",
      "R^2: 0.5079996278862282\n",
      "MAE: 2.6717170977886697\n",
      "MSE: 92.88372147478809\n",
      "RMSE: 9.637620114674997\n"
     ]
    }
   ],
   "source": [
    "# Evaluate the model performance on the training data\n",
    "r_sq = lr.score(X_train_scaled, y_train)\n",
    "print('coefficient of determination:', r_sq)\n",
    "y_pred_train = lr.predict(X_train_scaled)\n",
    "print('R^2:', r2_score(y_train, y_pred_train))\n",
    "print('MAE:', mean_absolute_error(y_train, y_pred_train))\n",
    "print('MSE:', mean_squared_error(y_train, y_pred_train))\n",
    "print('RMSE:', np.sqrt(mean_squared_error(y_train, y_pred_train)))"
   ]
  },
  {
   "cell_type": "markdown",
   "metadata": {},
   "source": [
    "### Test data\n",
    "\n",
    "Let's calculate the same metrics on the test data."
   ]
  },
  {
   "cell_type": "code",
   "execution_count": 96,
   "metadata": {},
   "outputs": [],
   "source": [
    "# Scale the X_test data\n",
    "X_test_scaled = scaler.transform(X_test)"
   ]
  },
  {
   "cell_type": "code",
   "execution_count": 97,
   "metadata": {
    "id": "P5nXSpRCVXq6"
   },
   "outputs": [
    {
     "name": "stdout",
     "output_type": "stream",
     "text": [
      "coefficient of determination: 0.8261127809154183\n",
      "R^2: 0.8261127809154183\n",
      "MAE: 2.5028493495005453\n",
      "MSE: 20.458845782372048\n",
      "RMSE: 4.523145562810471\n"
     ]
    }
   ],
   "source": [
    "# Evaluate the model performance on the testing data\n",
    "r_sq = lr.score(X_test_scaled, y_test)\n",
    "print('coefficient of determination:', r_sq)\n",
    "y_pred_test = lr.predict(X_test_scaled)\n",
    "print('R^2:', r2_score(y_test, y_pred_test))\n",
    "print('MAE:', mean_absolute_error(y_test, y_pred_test))\n",
    "print('MSE:', mean_squared_error(y_test, y_pred_test))\n",
    "print('RMSE:', np.sqrt(mean_squared_error(y_test, y_pred_test)))"
   ]
  },
  {
   "cell_type": "markdown",
   "metadata": {},
   "source": [
    "`Note` : The model performance on the test data is better than the training data. This is a good sign that the model is not overfitting.\n",
    "<br> For the test data, an R^2 of 0.82 means that 82% of the variance in the target variable can be explained by the model.\n",
    "<br> The mean absolute error is informative because it is the average error. In this case, the average error is 2.5 dollars. This means that the model is off by an average of 2.5 dollars when predicting the fare amount."
   ]
  },
  {
   "cell_type": "markdown",
   "metadata": {
    "id": "L3MCKUhPJLi5"
   },
   "source": [
    "## PACE: **Execute**"
   ]
  },
  {
   "cell_type": "markdown",
   "metadata": {
    "id": "F_l3bkxQdJ3a"
   },
   "source": [
    "### Task 9a. Results\n",
    "\n",
    "Let's compute the `actual`,`predicted`, and `residual` for the testing set, and store them as columns in a `results` dataframe."
   ]
  },
  {
   "cell_type": "code",
   "execution_count": 98,
   "metadata": {
    "id": "cSl5gbXfBPBN"
   },
   "outputs": [
    {
     "data": {
      "text/html": [
       "<div>\n",
       "<style scoped>\n",
       "    .dataframe tbody tr th:only-of-type {\n",
       "        vertical-align: middle;\n",
       "    }\n",
       "\n",
       "    .dataframe tbody tr th {\n",
       "        vertical-align: top;\n",
       "    }\n",
       "\n",
       "    .dataframe thead th {\n",
       "        text-align: right;\n",
       "    }\n",
       "</style>\n",
       "<table border=\"1\" class=\"dataframe\">\n",
       "  <thead>\n",
       "    <tr style=\"text-align: right;\">\n",
       "      <th></th>\n",
       "      <th>actual</th>\n",
       "      <th>predicted</th>\n",
       "      <th>residuals</th>\n",
       "    </tr>\n",
       "  </thead>\n",
       "  <tbody>\n",
       "    <tr>\n",
       "      <th>102188254</th>\n",
       "      <td>14.0</td>\n",
       "      <td>12.711169</td>\n",
       "      <td>1.288831</td>\n",
       "    </tr>\n",
       "    <tr>\n",
       "      <th>50574134</th>\n",
       "      <td>28.0</td>\n",
       "      <td>14.592348</td>\n",
       "      <td>13.407652</td>\n",
       "    </tr>\n",
       "    <tr>\n",
       "      <th>14767643</th>\n",
       "      <td>5.5</td>\n",
       "      <td>7.269140</td>\n",
       "      <td>-1.769140</td>\n",
       "    </tr>\n",
       "    <tr>\n",
       "      <th>16019414</th>\n",
       "      <td>15.5</td>\n",
       "      <td>17.270201</td>\n",
       "      <td>-1.770201</td>\n",
       "    </tr>\n",
       "    <tr>\n",
       "      <th>1352127</th>\n",
       "      <td>9.5</td>\n",
       "      <td>10.445021</td>\n",
       "      <td>-0.945021</td>\n",
       "    </tr>\n",
       "  </tbody>\n",
       "</table>\n",
       "</div>"
      ],
      "text/plain": [
       "           actual  predicted  residuals\n",
       "102188254    14.0  12.711169   1.288831\n",
       "50574134     28.0  14.592348  13.407652\n",
       "14767643      5.5   7.269140  -1.769140\n",
       "16019414     15.5  17.270201  -1.770201\n",
       "1352127       9.5  10.445021  -0.945021"
      ]
     },
     "execution_count": 98,
     "metadata": {},
     "output_type": "execute_result"
    }
   ],
   "source": [
    "# Create a `results` dataframe to store the actual and predicted values, as well as the residuals\n",
    "results = pd.DataFrame({'actual': y_test, 'predicted': y_pred_test})\n",
    "results['residuals'] = abs(results['actual']) - abs(results['predicted'])\n",
    "results.head()"
   ]
  },
  {
   "cell_type": "markdown",
   "metadata": {
    "id": "mwRmSDS3eyeH"
   },
   "source": [
    "### Task 9b. Visualize model results"
   ]
  },
  {
   "cell_type": "markdown",
   "metadata": {
    "id": "y3vQ-mB51dfd"
   },
   "source": [
    "Create a scatterplot to visualize `actual` vs. `predicted`."
   ]
  },
  {
   "cell_type": "code",
   "execution_count": 101,
   "metadata": {
    "id": "IBFU_dicBjwQ"
   },
   "outputs": [
    {
     "data": {
      "image/png": "[encoded data removed]",
      "text/plain": [
       "<Figure size 600x600 with 1 Axes>"
      ]
     },
     "metadata": {},
     "output_type": "display_data"
    }
   ],
   "source": [
    "# Create a scatterplot to visualize `predicted` over `actual`\n",
    "fig, ax = plt.subplots(figsize=(6, 6))\n",
    "sns.set(style='whitegrid')\n",
    "sns.scatterplot(x='actual',\n",
    "                y='predicted',\n",
    "                data=results,\n",
    "                s=20,\n",
    "                alpha=0.5,\n",
    "                ax=ax\n",
    ")\n",
    "plt.plot([0,60], [0,60], c='red', linewidth=2)\n",
    "plt.title('Actual vs. predicted');"
   ]
  },
  {
   "cell_type": "markdown",
   "metadata": {
    "id": "IbO71S_R9IcY"
   },
   "source": [
    "Visualize the distribution of the `residuals` using a histogram."
   ]
  },
  {
   "cell_type": "code",
   "execution_count": 106,
   "metadata": {
    "id": "3a0UYoEr9Nx6"
   },
   "outputs": [
    {
     "data": {
      "image/png": "[encoded data removed]",
      "text/plain": [
       "<Figure size 640x480 with 1 Axes>"
      ]
     },
     "metadata": {},
     "output_type": "display_data"
    }
   ],
   "source": [
    "# Visualize the distribution of the `residuals`\n",
    "sns.histplot(results['residuals'], bins=np.arange(-15,15.5,0.5))\n",
    "plt.title('Distribution of residuals');\n",
    "plt.xlabel('Residuals');\n",
    "plt.ylabel('Count');"
   ]
  },
  {
   "cell_type": "code",
   "execution_count": 108,
   "metadata": {},
   "outputs": [
    {
     "name": "stdout",
     "output_type": "stream",
     "text": [
      "Residual mean: -0.0825307717809133\n"
     ]
    }
   ],
   "source": [
    "# Calculate residual mean\n",
    "residual_mean = results['residuals'].mean()\n",
    "print('Residual mean:', residual_mean)"
   ]
  },
  {
   "cell_type": "markdown",
   "metadata": {
    "id": "OCnELck-9h5M"
   },
   "source": [
    "Create a scatterplot of `residuals` over `predicted`."
   ]
  },
  {
   "cell_type": "code",
   "execution_count": 109,
   "metadata": {
    "id": "7Kmr2U8A95fY"
   },
   "outputs": [
    {
     "data": {
      "image/png": "[encoded data removed]",
      "text/plain": [
       "<Figure size 600x600 with 1 Axes>"
      ]
     },
     "metadata": {},
     "output_type": "display_data"
    }
   ],
   "source": [
    "# Create a scatterplot of `residuals` over `predicted`\n",
    "fig, ax = plt.subplots(figsize=(6, 6))\n",
    "sns.scatterplot(x='predicted',\n",
    "                y='residuals',\n",
    "                data=results,\n",
    "                s=20,\n",
    "                alpha=0.5,\n",
    "                ax=ax\n",
    ")\n",
    "plt.plot([0,60], [0,0], c='red', linewidth=2)\n",
    "plt.title('Residuals vs. predicted');"
   ]
  },
  {
   "cell_type": "markdown",
   "metadata": {},
   "source": [
    "`Note` : The model's residuals are evenly distributed above and below zero, with the exception of the sloping lines from the upper left to the lower right. \n",
    "<br> Which indicates the imputed maximum fare amount of $52 dollars for JFK Airport trips."
   ]
  },
  {
   "cell_type": "markdown",
   "metadata": {},
   "source": [
    "### Task 9c. Coefficients\n",
    "\n",
    "Use the `coef_` attribute to get the model's coefficients. The coefficients are output in the order of the features that were used to train the model. \n",
    "<br> Then we can determine which feature had the greatest effect on trip fare."
   ]
  },
  {
   "cell_type": "code",
   "execution_count": 110,
   "metadata": {},
   "outputs": [
    {
     "data": {
      "text/html": [
       "<div>\n",
       "<style scoped>\n",
       "    .dataframe tbody tr th:only-of-type {\n",
       "        vertical-align: middle;\n",
       "    }\n",
       "\n",
       "    .dataframe tbody tr th {\n",
       "        vertical-align: top;\n",
       "    }\n",
       "\n",
       "    .dataframe thead th {\n",
       "        text-align: right;\n",
       "    }\n",
       "</style>\n",
       "<table border=\"1\" class=\"dataframe\">\n",
       "  <thead>\n",
       "    <tr style=\"text-align: right;\">\n",
       "      <th></th>\n",
       "      <th>Coefficient</th>\n",
       "    </tr>\n",
       "  </thead>\n",
       "  <tbody>\n",
       "    <tr>\n",
       "      <th>passenger_count</th>\n",
       "      <td>0.014424</td>\n",
       "    </tr>\n",
       "    <tr>\n",
       "      <th>mean_distance</th>\n",
       "      <td>9.686934</td>\n",
       "    </tr>\n",
       "    <tr>\n",
       "      <th>mean_duration</th>\n",
       "      <td>0.279576</td>\n",
       "    </tr>\n",
       "    <tr>\n",
       "      <th>rush_hour</th>\n",
       "      <td>0.151489</td>\n",
       "    </tr>\n",
       "    <tr>\n",
       "      <th>VendorID_2</th>\n",
       "      <td>-0.076263</td>\n",
       "    </tr>\n",
       "  </tbody>\n",
       "</table>\n",
       "</div>"
      ],
      "text/plain": [
       "                 Coefficient\n",
       "passenger_count     0.014424\n",
       "mean_distance       9.686934\n",
       "mean_duration       0.279576\n",
       "rush_hour           0.151489\n",
       "VendorID_2         -0.076263"
      ]
     },
     "execution_count": 110,
     "metadata": {},
     "output_type": "execute_result"
    }
   ],
   "source": [
    "# Output the model's coefficients\n",
    "coefficients = pd.DataFrame(lr.coef_, X.columns, columns=['Coefficient'])\n",
    "coefficients"
   ]
  },
  {
   "cell_type": "markdown",
   "metadata": {},
   "source": [
    "What do these coefficients mean? How should they be interpreted?"
   ]
  },
  {
   "cell_type": "markdown",
   "metadata": {},
   "source": [
    "`Note`: The coefficients reveal that the mean_distance feature has the greatest effect on the fare_amount.\n",
    "<br> The data used to train the model was standardized with StandardScaler(). As such, the units are no longer miles, the correct interpretation of this coefficient is: For every +1 change in standard deviation, the fare amount increases by a mean of $9.69.\n",
    "\n",
    "Note also that because some highly correlated features were not removed, the confidence interval of this assessment is wider.\n",
    "\n",
    "So, translate this back to miles instead of standard deviation (i.e., unscale the data).\n",
    "\n",
    "Calculate the standard deviation of mean_distance in the X_train data.\n",
    "\n",
    "Divide the coefficient (9.686934) by the result to yield a more intuitive interpretation."
   ]
  },
  {
   "cell_type": "code",
   "execution_count": 113,
   "metadata": {},
   "outputs": [
    {
     "name": "stdout",
     "output_type": "stream",
     "text": [
      "3.574812975256436\n",
      "2.70977364887323\n"
     ]
    }
   ],
   "source": [
    "# Calculate standard deviation of 'mean_distance`in X_train data\n",
    "print(X_train['mean_distance'].std())\n",
    "\n",
    "# Divide the model coefficient by the standard deviation \n",
    "print(9.686934 / X_train['mean_distance'].std())"
   ]
  },
  {
   "cell_type": "markdown",
   "metadata": {},
   "source": [
    "`Note`: Now we can make a more intuitive interpretation: for every 3.57 miles traveled, the fare increased by a mean of $9.69. Or, reduced: for every 1 mile traveled, the fare increased by a mean of $2.00."
   ]
  },
  {
   "cell_type": "markdown",
   "metadata": {
    "id": "P6AlDDyhdzmG"
   },
   "source": [
    "### Task 9d. Conclusion\n",
    "\n",
    "What results can be presented from this notebook?"
   ]
  },
  {
   "cell_type": "markdown",
   "metadata": {},
   "source": [
    "`Conclusion` : We can discuss meeting linear regression assumptions, and we can present the MAE and RMSE scores obtained from the model."
   ]
  }
 ],
 "metadata": {
  "colab": {
   "provenance": [],
   "toc_visible": true
  },
  "kernelspec": {
   "display_name": "Python 3",
   "language": "python",
   "name": "python3"
  },
  "language_info": {
   "codemirror_mode": {
    "name": "ipython",
    "version": 3
   },
   "file_extension": ".py",
   "mimetype": "text/x-python",
   "name": "python",
   "nbconvert_exporter": "python",
   "pygments_lexer": "ipython3",
   "version": "3.11.5"
  }
 },
 "nbformat": 4,
 "nbformat_minor": 1
}
